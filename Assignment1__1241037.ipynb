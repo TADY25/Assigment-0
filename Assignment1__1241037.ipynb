{
  "nbformat": 4,
  "nbformat_minor": 0,
  "metadata": {
    "colab": {
      "name": "Assignment1_ 1241037.ipynb",
      "provenance": [],
      "collapsed_sections": [],
      "include_colab_link": true
    },
    "kernelspec": {
      "name": "python3",
      "display_name": "Python 3"
    },
    "language_info": {
      "name": "python"
    }
  },
  "cells": [
    {
      "cell_type": "markdown",
      "metadata": {
        "id": "view-in-github",
        "colab_type": "text"
      },
      "source": [
        "<a href=\"https://colab.research.google.com/github/TADY25/Assigment-0/blob/main/Assignment1__1241037.ipynb\" target=\"_parent\"><img src=\"https://colab.research.google.com/assets/colab-badge.svg\" alt=\"Open In Colab\"/></a>"
      ]
    },
    {
      "cell_type": "markdown",
      "metadata": {
        "id": "s6wyGzMGMAZl"
      },
      "source": [
        "\n",
        "<a href=\"https://colab.research.google.com/github/michalis0/DataMining_and_MachineLearning/blob/master/Assignment1/Assignment1.ipynb\" target=\"_parent\"><img src=\"https://colab.research.google.com/assets/colab-badge.svg\" alt=\"Open In Colab\"/></a>\n",
        "\n"
      ]
    },
    {
      "cell_type": "markdown",
      "metadata": {
        "id": "iwAXDYpDDSB5"
      },
      "source": [
        "# Data Mining and Machine Learning - Assignment 1\n",
        "\n",
        "> Topics Covered: Data Cleaning, Exploratory Data Analysis, Visualization and Regression 1 and 2 (up to and including week 5)\n",
        "\n",
        "**Due: Sunday November 7, 23.59pm**\n",
        "\n",
        "\n",
        "This assignment is the opportunity to apply the different concepts seen in class so far to a new dataset on the sales of a store.\n",
        "\n",
        "Run the first few cells to load the dataset and then get started with the questions! \n",
        "\n",
        "To complete the assignment you have to do ***both***:\n",
        "\n",
        "1. Complete the exercises and submit [your Python notebook](https://moodle.unil.ch/mod/assign/view.php?id=841447)\n",
        "2. Answer the questions to [the quiz on Moodle](https://moodle.unil.ch/mod/quiz/view.php?id=1172387) \n",
        ">Note: You can only complete the quiz one time. Have your notebook with the asnwers ready for answering the quiz. \n",
        "\n",
        "The answers to the quiz should be supported by your code in the notebook. If they are not, you will not receive points for them.\n",
        "\n",
        "**IMPORTANT!** You can discuss the questions with other students but **do not exchange code!** This is individual work. We will run your code and check for similarities.\n",
        "\n",
        "You can post your questions in slack [channel #assignments](https://app.slack.com/client/T02C4KVGVMX/C02BBA2TFQF).\n",
        "\n",
        "\n",
        "If there is need for further clarifications on the questions, after the assignment is released, we will update the file on GitHub, so make sure you check the git repo of the class for updates.\n",
        "\n",
        "Good luck!"
      ]
    },
    {
      "cell_type": "code",
      "metadata": {
        "id": "zWUCxcA6TKAI"
      },
      "source": [
        "# Import required packages\n",
        "\n",
        "import pandas as pd\n",
        "import numpy as np\n",
        "import matplotlib.pyplot as plt\n",
        "import seaborn as sns\n",
        "%matplotlib inline\n",
        "sns.set_style(\"whitegrid\")"
      ],
      "execution_count": 9,
      "outputs": []
    },
    {
      "cell_type": "code",
      "metadata": {
        "id": "bksyZc4p0hVZ"
      },
      "source": [
        "# Load the data\n",
        "df=pd.read_csv('https://raw.githubusercontent.com/michalis0/DataMining_and_MachineLearning/master/data/sales.csv')"
      ],
      "execution_count": 521,
      "outputs": []
    },
    {
      "cell_type": "markdown",
      "metadata": {
        "id": "3RQLjcgCBwVt"
      },
      "source": [
        "For the first part we use data on the retail sales of a store over several years. The dataset includes information on items purchased from this store, including for each item or article:\n",
        "* order ID (a unique identifyier of the order through which this item was purchased)\n",
        "* date of the order\n",
        "* date the shipment was made\n",
        "* mode of shipment used (first class, second class, etc.)\n",
        "* customer ID (unique identifyier of the client)\n",
        "* customer name\n",
        "* client segment (consumer, corporate, etc.)\n",
        "* country, city, state, postal code, region of the client\n",
        "* product ID, product category, sub-category, and product name\n",
        "* sales value for purchased items in USD."
      ]
    },
    {
      "cell_type": "markdown",
      "metadata": {
        "id": "xKdL7SxJH7Nw"
      },
      "source": [
        "## 1. Understand and Clean the Dataset\n",
        "\n",
        ">1.1 Show the first 5 or 10 rows to get an idea of the data. "
      ]
    },
    {
      "cell_type": "code",
      "metadata": {
        "id": "bJQn3lz313aL",
        "colab": {
          "base_uri": "https://localhost:8080/",
          "height": 855
        },
        "outputId": "5a3f23a0-2d29-4b9d-b770-0f85b5c9b860"
      },
      "source": [
        "# YOUR CODE HERE\n",
        "df.columns = [c.replace(' ', '_') for c in df.columns]\n",
        "df.head(10)"
      ],
      "execution_count": 522,
      "outputs": [
        {
          "output_type": "execute_result",
          "data": {
            "text/html": [
              "<div>\n",
              "<style scoped>\n",
              "    .dataframe tbody tr th:only-of-type {\n",
              "        vertical-align: middle;\n",
              "    }\n",
              "\n",
              "    .dataframe tbody tr th {\n",
              "        vertical-align: top;\n",
              "    }\n",
              "\n",
              "    .dataframe thead th {\n",
              "        text-align: right;\n",
              "    }\n",
              "</style>\n",
              "<table border=\"1\" class=\"dataframe\">\n",
              "  <thead>\n",
              "    <tr style=\"text-align: right;\">\n",
              "      <th></th>\n",
              "      <th>Row_ID</th>\n",
              "      <th>Order_ID</th>\n",
              "      <th>Order_Date</th>\n",
              "      <th>Ship_Date</th>\n",
              "      <th>Ship_Mode</th>\n",
              "      <th>Customer_ID</th>\n",
              "      <th>Customer_Name</th>\n",
              "      <th>Segment</th>\n",
              "      <th>Country</th>\n",
              "      <th>City</th>\n",
              "      <th>State</th>\n",
              "      <th>Postal_Code</th>\n",
              "      <th>Region</th>\n",
              "      <th>Product_ID</th>\n",
              "      <th>Category</th>\n",
              "      <th>Sub-Category</th>\n",
              "      <th>Product_Name</th>\n",
              "      <th>Sales</th>\n",
              "    </tr>\n",
              "  </thead>\n",
              "  <tbody>\n",
              "    <tr>\n",
              "      <th>0</th>\n",
              "      <td>1</td>\n",
              "      <td>CA-2017-152156</td>\n",
              "      <td>08/11/2017</td>\n",
              "      <td>11/11/2017</td>\n",
              "      <td>Second Class</td>\n",
              "      <td>CG-12520</td>\n",
              "      <td>Claire Gute</td>\n",
              "      <td>Consumer</td>\n",
              "      <td>United States</td>\n",
              "      <td>Henderson</td>\n",
              "      <td>Kentucky</td>\n",
              "      <td>42420.0</td>\n",
              "      <td>South</td>\n",
              "      <td>FUR-BO-10001798</td>\n",
              "      <td>Furniture</td>\n",
              "      <td>Bookcases</td>\n",
              "      <td>Bush Somerset Collection Bookcase</td>\n",
              "      <td>261.9600</td>\n",
              "    </tr>\n",
              "    <tr>\n",
              "      <th>1</th>\n",
              "      <td>2</td>\n",
              "      <td>CA-2017-152156</td>\n",
              "      <td>08/11/2017</td>\n",
              "      <td>11/11/2017</td>\n",
              "      <td>Second Class</td>\n",
              "      <td>CG-12520</td>\n",
              "      <td>Claire Gute</td>\n",
              "      <td>Consumer</td>\n",
              "      <td>United States</td>\n",
              "      <td>Henderson</td>\n",
              "      <td>Kentucky</td>\n",
              "      <td>42420.0</td>\n",
              "      <td>South</td>\n",
              "      <td>FUR-CH-10000454</td>\n",
              "      <td>Furniture</td>\n",
              "      <td>Chairs</td>\n",
              "      <td>Hon Deluxe Fabric Upholstered Stacking Chairs,...</td>\n",
              "      <td>731.9400</td>\n",
              "    </tr>\n",
              "    <tr>\n",
              "      <th>2</th>\n",
              "      <td>3</td>\n",
              "      <td>CA-2017-138688</td>\n",
              "      <td>12/06/2017</td>\n",
              "      <td>16/06/2017</td>\n",
              "      <td>Second Class</td>\n",
              "      <td>DV-13045</td>\n",
              "      <td>Darrin Van Huff</td>\n",
              "      <td>Corporate</td>\n",
              "      <td>United States</td>\n",
              "      <td>Los Angeles</td>\n",
              "      <td>California</td>\n",
              "      <td>90036.0</td>\n",
              "      <td>West</td>\n",
              "      <td>OFF-LA-10000240</td>\n",
              "      <td>Office Supplies</td>\n",
              "      <td>Labels</td>\n",
              "      <td>Self-Adhesive Address Labels for Typewriters b...</td>\n",
              "      <td>14.6200</td>\n",
              "    </tr>\n",
              "    <tr>\n",
              "      <th>3</th>\n",
              "      <td>4</td>\n",
              "      <td>US-2016-108966</td>\n",
              "      <td>11/10/2016</td>\n",
              "      <td>18/10/2016</td>\n",
              "      <td>Standard Class</td>\n",
              "      <td>SO-20335</td>\n",
              "      <td>Sean O'Donnell</td>\n",
              "      <td>Consumer</td>\n",
              "      <td>United States</td>\n",
              "      <td>Fort Lauderdale</td>\n",
              "      <td>Florida</td>\n",
              "      <td>33311.0</td>\n",
              "      <td>South</td>\n",
              "      <td>FUR-TA-10000577</td>\n",
              "      <td>Furniture</td>\n",
              "      <td>Tables</td>\n",
              "      <td>Bretford CR4500 Series Slim Rectangular Table</td>\n",
              "      <td>957.5775</td>\n",
              "    </tr>\n",
              "    <tr>\n",
              "      <th>4</th>\n",
              "      <td>5</td>\n",
              "      <td>US-2016-108966</td>\n",
              "      <td>11/10/2016</td>\n",
              "      <td>18/10/2016</td>\n",
              "      <td>Standard Class</td>\n",
              "      <td>SO-20335</td>\n",
              "      <td>Sean O'Donnell</td>\n",
              "      <td>Consumer</td>\n",
              "      <td>United States</td>\n",
              "      <td>Fort Lauderdale</td>\n",
              "      <td>Florida</td>\n",
              "      <td>33311.0</td>\n",
              "      <td>South</td>\n",
              "      <td>OFF-ST-10000760</td>\n",
              "      <td>Office Supplies</td>\n",
              "      <td>Storage</td>\n",
              "      <td>Eldon Fold 'N Roll Cart System</td>\n",
              "      <td>22.3680</td>\n",
              "    </tr>\n",
              "    <tr>\n",
              "      <th>5</th>\n",
              "      <td>6</td>\n",
              "      <td>CA-2015-115812</td>\n",
              "      <td>09/06/2015</td>\n",
              "      <td>14/06/2015</td>\n",
              "      <td>Standard Class</td>\n",
              "      <td>BH-11710</td>\n",
              "      <td>Brosina Hoffman</td>\n",
              "      <td>Consumer</td>\n",
              "      <td>United States</td>\n",
              "      <td>Los Angeles</td>\n",
              "      <td>California</td>\n",
              "      <td>90032.0</td>\n",
              "      <td>West</td>\n",
              "      <td>FUR-FU-10001487</td>\n",
              "      <td>Furniture</td>\n",
              "      <td>Furnishings</td>\n",
              "      <td>Eldon Expressions Wood and Plastic Desk Access...</td>\n",
              "      <td>48.8600</td>\n",
              "    </tr>\n",
              "    <tr>\n",
              "      <th>6</th>\n",
              "      <td>7</td>\n",
              "      <td>CA-2015-115812</td>\n",
              "      <td>09/06/2015</td>\n",
              "      <td>14/06/2015</td>\n",
              "      <td>Standard Class</td>\n",
              "      <td>BH-11710</td>\n",
              "      <td>Brosina Hoffman</td>\n",
              "      <td>Consumer</td>\n",
              "      <td>United States</td>\n",
              "      <td>Los Angeles</td>\n",
              "      <td>California</td>\n",
              "      <td>90032.0</td>\n",
              "      <td>West</td>\n",
              "      <td>OFF-AR-10002833</td>\n",
              "      <td>Office Supplies</td>\n",
              "      <td>Art</td>\n",
              "      <td>Newell 322</td>\n",
              "      <td>7.2800</td>\n",
              "    </tr>\n",
              "    <tr>\n",
              "      <th>7</th>\n",
              "      <td>8</td>\n",
              "      <td>CA-2015-115812</td>\n",
              "      <td>09/06/2015</td>\n",
              "      <td>14/06/2015</td>\n",
              "      <td>Standard Class</td>\n",
              "      <td>BH-11710</td>\n",
              "      <td>Brosina Hoffman</td>\n",
              "      <td>Consumer</td>\n",
              "      <td>United States</td>\n",
              "      <td>Los Angeles</td>\n",
              "      <td>California</td>\n",
              "      <td>90032.0</td>\n",
              "      <td>West</td>\n",
              "      <td>TEC-PH-10002275</td>\n",
              "      <td>Technology</td>\n",
              "      <td>Phones</td>\n",
              "      <td>Mitel 5320 IP Phone VoIP phone</td>\n",
              "      <td>907.1520</td>\n",
              "    </tr>\n",
              "    <tr>\n",
              "      <th>8</th>\n",
              "      <td>9</td>\n",
              "      <td>CA-2015-115812</td>\n",
              "      <td>09/06/2015</td>\n",
              "      <td>14/06/2015</td>\n",
              "      <td>Standard Class</td>\n",
              "      <td>BH-11710</td>\n",
              "      <td>Brosina Hoffman</td>\n",
              "      <td>Consumer</td>\n",
              "      <td>United States</td>\n",
              "      <td>Los Angeles</td>\n",
              "      <td>California</td>\n",
              "      <td>90032.0</td>\n",
              "      <td>West</td>\n",
              "      <td>OFF-BI-10003910</td>\n",
              "      <td>Office Supplies</td>\n",
              "      <td>Binders</td>\n",
              "      <td>DXL Angle-View Binders with Locking Rings by S...</td>\n",
              "      <td>18.5040</td>\n",
              "    </tr>\n",
              "    <tr>\n",
              "      <th>9</th>\n",
              "      <td>10</td>\n",
              "      <td>CA-2015-115812</td>\n",
              "      <td>09/06/2015</td>\n",
              "      <td>14/06/2015</td>\n",
              "      <td>Standard Class</td>\n",
              "      <td>BH-11710</td>\n",
              "      <td>Brosina Hoffman</td>\n",
              "      <td>Consumer</td>\n",
              "      <td>United States</td>\n",
              "      <td>Los Angeles</td>\n",
              "      <td>California</td>\n",
              "      <td>90032.0</td>\n",
              "      <td>West</td>\n",
              "      <td>OFF-AP-10002892</td>\n",
              "      <td>Office Supplies</td>\n",
              "      <td>Appliances</td>\n",
              "      <td>Belkin F5C206VTEL 6 Outlet Surge</td>\n",
              "      <td>114.9000</td>\n",
              "    </tr>\n",
              "  </tbody>\n",
              "</table>\n",
              "</div>"
            ],
            "text/plain": [
              "   Row_ID  ...     Sales\n",
              "0       1  ...  261.9600\n",
              "1       2  ...  731.9400\n",
              "2       3  ...   14.6200\n",
              "3       4  ...  957.5775\n",
              "4       5  ...   22.3680\n",
              "5       6  ...   48.8600\n",
              "6       7  ...    7.2800\n",
              "7       8  ...  907.1520\n",
              "8       9  ...   18.5040\n",
              "9      10  ...  114.9000\n",
              "\n",
              "[10 rows x 18 columns]"
            ]
          },
          "metadata": {},
          "execution_count": 522
        }
      ]
    },
    {
      "cell_type": "markdown",
      "metadata": {
        "id": "NLm9VhY2Iovy"
      },
      "source": [
        "\n",
        "### 1.2 Describe the dataset.\n",
        "\n",
        ">1.2.1. How many observations(rows) and columns are in the dataset?"
      ]
    },
    {
      "cell_type": "code",
      "metadata": {
        "colab": {
          "base_uri": "https://localhost:8080/"
        },
        "id": "-gUsNPGtA9SM",
        "outputId": "1e7a79df-2f71-4515-e3c4-04deab08ba90"
      },
      "source": [
        "df.info()"
      ],
      "execution_count": 523,
      "outputs": [
        {
          "output_type": "stream",
          "name": "stdout",
          "text": [
            "<class 'pandas.core.frame.DataFrame'>\n",
            "RangeIndex: 9800 entries, 0 to 9799\n",
            "Data columns (total 18 columns):\n",
            " #   Column         Non-Null Count  Dtype  \n",
            "---  ------         --------------  -----  \n",
            " 0   Row_ID         9800 non-null   int64  \n",
            " 1   Order_ID       9800 non-null   object \n",
            " 2   Order_Date     9800 non-null   object \n",
            " 3   Ship_Date      9800 non-null   object \n",
            " 4   Ship_Mode      9800 non-null   object \n",
            " 5   Customer_ID    9800 non-null   object \n",
            " 6   Customer_Name  9800 non-null   object \n",
            " 7   Segment        9800 non-null   object \n",
            " 8   Country        9800 non-null   object \n",
            " 9   City           9800 non-null   object \n",
            " 10  State          9800 non-null   object \n",
            " 11  Postal_Code    9789 non-null   float64\n",
            " 12  Region         9800 non-null   object \n",
            " 13  Product_ID     9800 non-null   object \n",
            " 14  Category       9800 non-null   object \n",
            " 15  Sub-Category   9800 non-null   object \n",
            " 16  Product_Name   9800 non-null   object \n",
            " 17  Sales          9800 non-null   float64\n",
            "dtypes: float64(2), int64(1), object(15)\n",
            "memory usage: 1.3+ MB\n"
          ]
        }
      ]
    },
    {
      "cell_type": "code",
      "metadata": {
        "id": "kN08N8Ya2aSi",
        "colab": {
          "base_uri": "https://localhost:8080/"
        },
        "outputId": "389559ac-24aa-4c7c-8cbe-cb17012001cb"
      },
      "source": [
        "# YOUR CODE HERE\n",
        "df.shape"
      ],
      "execution_count": 524,
      "outputs": [
        {
          "output_type": "execute_result",
          "data": {
            "text/plain": [
              "(9800, 18)"
            ]
          },
          "metadata": {},
          "execution_count": 524
        }
      ]
    },
    {
      "cell_type": "markdown",
      "metadata": {
        "id": "2k2M382DYi_J"
      },
      "source": [
        "**Cardinality (number of rows/observations) = 9800**\n",
        "\n",
        "There are 9800 observations.\n",
        "\n",
        "**Dimensionality (number of columns) = 18**\n",
        "\n",
        "There are 18 attributes of the items purchased."
      ]
    },
    {
      "cell_type": "markdown",
      "metadata": {
        "id": "W5tB44hXN1_y"
      },
      "source": [
        "> 1.2.2. For which variable(s), if any, are there missing/null values?"
      ]
    },
    {
      "cell_type": "code",
      "metadata": {
        "id": "7QPMt2TP6WVO",
        "colab": {
          "base_uri": "https://localhost:8080/"
        },
        "outputId": "2f3cd58d-b26a-43bc-885d-0603f4693331"
      },
      "source": [
        "# YOUR CODE HERE\n",
        "df.isnull().sum()"
      ],
      "execution_count": 525,
      "outputs": [
        {
          "output_type": "execute_result",
          "data": {
            "text/plain": [
              "Row_ID            0\n",
              "Order_ID          0\n",
              "Order_Date        0\n",
              "Ship_Date         0\n",
              "Ship_Mode         0\n",
              "Customer_ID       0\n",
              "Customer_Name     0\n",
              "Segment           0\n",
              "Country           0\n",
              "City              0\n",
              "State             0\n",
              "Postal_Code      11\n",
              "Region            0\n",
              "Product_ID        0\n",
              "Category          0\n",
              "Sub-Category      0\n",
              "Product_Name      0\n",
              "Sales             0\n",
              "dtype: int64"
            ]
          },
          "metadata": {},
          "execution_count": 525
        }
      ]
    },
    {
      "cell_type": "markdown",
      "metadata": {
        "id": "K_D2WshbcWER"
      },
      "source": [
        "There are 11 missing/null values for Postal Code."
      ]
    },
    {
      "cell_type": "markdown",
      "metadata": {
        "id": "0mgVMc3wMsD6"
      },
      "source": [
        ">1.2.3. Which state generated the highest demand by *number* of items ordered over the entire period?"
      ]
    },
    {
      "cell_type": "code",
      "metadata": {
        "id": "b2rw5EHkMfWR",
        "colab": {
          "base_uri": "https://localhost:8080/"
        },
        "outputId": "bc003644-b3f1-41e5-e4b8-62e7b1ffae2d"
      },
      "source": [
        "# YOUR CODE HERE\n",
        "df[\"State\"].value_counts().head(5)\n"
      ],
      "execution_count": 526,
      "outputs": [
        {
          "output_type": "execute_result",
          "data": {
            "text/plain": [
              "California      1946\n",
              "New York        1097\n",
              "Texas            973\n",
              "Pennsylvania     582\n",
              "Washington       504\n",
              "Name: State, dtype: int64"
            ]
          },
          "metadata": {},
          "execution_count": 526
        }
      ]
    },
    {
      "cell_type": "markdown",
      "metadata": {
        "id": "9du2HFqzj2m2"
      },
      "source": [
        "California."
      ]
    },
    {
      "cell_type": "markdown",
      "metadata": {
        "id": "og7Oq593QMu-"
      },
      "source": [
        ">... and which state generated the highest demand by total (aggregated) sales over the entire period?"
      ]
    },
    {
      "cell_type": "code",
      "metadata": {
        "id": "86In9TV1OeyM",
        "colab": {
          "base_uri": "https://localhost:8080/",
          "height": 204
        },
        "outputId": "8a272cb5-9346-43f5-8ac6-291c1ae1ae33"
      },
      "source": [
        "# YOUR CODE HERE\n",
        "df.groupby(\"State\", as_index=False)[\"Sales\"].agg({\"StateSales\": \"sum\"}).sort_values(\"StateSales\", ascending=False).reset_index().head(5)\n"
      ],
      "execution_count": 527,
      "outputs": [
        {
          "output_type": "execute_result",
          "data": {
            "text/html": [
              "<div>\n",
              "<style scoped>\n",
              "    .dataframe tbody tr th:only-of-type {\n",
              "        vertical-align: middle;\n",
              "    }\n",
              "\n",
              "    .dataframe tbody tr th {\n",
              "        vertical-align: top;\n",
              "    }\n",
              "\n",
              "    .dataframe thead th {\n",
              "        text-align: right;\n",
              "    }\n",
              "</style>\n",
              "<table border=\"1\" class=\"dataframe\">\n",
              "  <thead>\n",
              "    <tr style=\"text-align: right;\">\n",
              "      <th></th>\n",
              "      <th>index</th>\n",
              "      <th>State</th>\n",
              "      <th>StateSales</th>\n",
              "    </tr>\n",
              "  </thead>\n",
              "  <tbody>\n",
              "    <tr>\n",
              "      <th>0</th>\n",
              "      <td>3</td>\n",
              "      <td>California</td>\n",
              "      <td>446306.4635</td>\n",
              "    </tr>\n",
              "    <tr>\n",
              "      <th>1</th>\n",
              "      <td>30</td>\n",
              "      <td>New York</td>\n",
              "      <td>306361.1470</td>\n",
              "    </tr>\n",
              "    <tr>\n",
              "      <th>2</th>\n",
              "      <td>41</td>\n",
              "      <td>Texas</td>\n",
              "      <td>168572.5322</td>\n",
              "    </tr>\n",
              "    <tr>\n",
              "      <th>3</th>\n",
              "      <td>45</td>\n",
              "      <td>Washington</td>\n",
              "      <td>135206.8500</td>\n",
              "    </tr>\n",
              "    <tr>\n",
              "      <th>4</th>\n",
              "      <td>36</td>\n",
              "      <td>Pennsylvania</td>\n",
              "      <td>116276.6500</td>\n",
              "    </tr>\n",
              "  </tbody>\n",
              "</table>\n",
              "</div>"
            ],
            "text/plain": [
              "   index         State   StateSales\n",
              "0      3    California  446306.4635\n",
              "1     30      New York  306361.1470\n",
              "2     41         Texas  168572.5322\n",
              "3     45    Washington  135206.8500\n",
              "4     36  Pennsylvania  116276.6500"
            ]
          },
          "metadata": {},
          "execution_count": 527
        }
      ]
    },
    {
      "cell_type": "markdown",
      "metadata": {
        "id": "21GHB_Ac4Crw"
      },
      "source": [
        "California."
      ]
    },
    {
      "cell_type": "markdown",
      "metadata": {
        "id": "fv-MIcT9Pc54"
      },
      "source": [
        ">1.2.4. What percentage of technology items (Hint: look at Category) were shipped first class (Hint: look at Ship Mode)?"
      ]
    },
    {
      "cell_type": "code",
      "metadata": {
        "colab": {
          "base_uri": "https://localhost:8080/",
          "height": 562
        },
        "id": "JE70g94ARIXA",
        "outputId": "32446d33-ca4d-44b5-f56d-1d024a24f8d1"
      },
      "source": [
        "# YOUR CODE HERE\n",
        "df['Category' == 'Technology'].count()"
      ],
      "execution_count": 533,
      "outputs": [
        {
          "output_type": "error",
          "ename": "KeyError",
          "evalue": "ignored",
          "traceback": [
            "\u001b[0;31m---------------------------------------------------------------------------\u001b[0m",
            "\u001b[0;31mKeyError\u001b[0m                                  Traceback (most recent call last)",
            "\u001b[0;32m/usr/local/lib/python3.7/dist-packages/pandas/core/indexes/base.py\u001b[0m in \u001b[0;36mget_loc\u001b[0;34m(self, key, method, tolerance)\u001b[0m\n\u001b[1;32m   2897\u001b[0m             \u001b[0;32mtry\u001b[0m\u001b[0;34m:\u001b[0m\u001b[0;34m\u001b[0m\u001b[0;34m\u001b[0m\u001b[0m\n\u001b[0;32m-> 2898\u001b[0;31m                 \u001b[0;32mreturn\u001b[0m \u001b[0mself\u001b[0m\u001b[0;34m.\u001b[0m\u001b[0m_engine\u001b[0m\u001b[0;34m.\u001b[0m\u001b[0mget_loc\u001b[0m\u001b[0;34m(\u001b[0m\u001b[0mcasted_key\u001b[0m\u001b[0;34m)\u001b[0m\u001b[0;34m\u001b[0m\u001b[0;34m\u001b[0m\u001b[0m\n\u001b[0m\u001b[1;32m   2899\u001b[0m             \u001b[0;32mexcept\u001b[0m \u001b[0mKeyError\u001b[0m \u001b[0;32mas\u001b[0m \u001b[0merr\u001b[0m\u001b[0;34m:\u001b[0m\u001b[0;34m\u001b[0m\u001b[0;34m\u001b[0m\u001b[0m\n",
            "\u001b[0;32mpandas/_libs/index.pyx\u001b[0m in \u001b[0;36mpandas._libs.index.IndexEngine.get_loc\u001b[0;34m()\u001b[0m\n",
            "\u001b[0;32mpandas/_libs/index.pyx\u001b[0m in \u001b[0;36mpandas._libs.index.IndexEngine.get_loc\u001b[0;34m()\u001b[0m\n",
            "\u001b[0;32mpandas/_libs/hashtable_class_helper.pxi\u001b[0m in \u001b[0;36mpandas._libs.hashtable.PyObjectHashTable.get_item\u001b[0;34m()\u001b[0m\n",
            "\u001b[0;32mpandas/_libs/hashtable_class_helper.pxi\u001b[0m in \u001b[0;36mpandas._libs.hashtable.PyObjectHashTable.get_item\u001b[0;34m()\u001b[0m\n",
            "\u001b[0;31mKeyError\u001b[0m: False",
            "\nThe above exception was the direct cause of the following exception:\n",
            "\u001b[0;31mKeyError\u001b[0m                                  Traceback (most recent call last)",
            "\u001b[0;32m<ipython-input-533-39f476a23da8>\u001b[0m in \u001b[0;36m<module>\u001b[0;34m()\u001b[0m\n\u001b[1;32m      1\u001b[0m \u001b[0;31m# YOUR CODE HERE\u001b[0m\u001b[0;34m\u001b[0m\u001b[0;34m\u001b[0m\u001b[0;34m\u001b[0m\u001b[0m\n\u001b[0;32m----> 2\u001b[0;31m \u001b[0mdf\u001b[0m\u001b[0;34m[\u001b[0m\u001b[0;34m'Category'\u001b[0m \u001b[0;34m==\u001b[0m \u001b[0;34m'Technology'\u001b[0m\u001b[0;34m]\u001b[0m\u001b[0;34m.\u001b[0m\u001b[0mcount\u001b[0m\u001b[0;34m(\u001b[0m\u001b[0;34m)\u001b[0m\u001b[0;34m\u001b[0m\u001b[0;34m\u001b[0m\u001b[0m\n\u001b[0m",
            "\u001b[0;32m/usr/local/lib/python3.7/dist-packages/pandas/core/frame.py\u001b[0m in \u001b[0;36m__getitem__\u001b[0;34m(self, key)\u001b[0m\n\u001b[1;32m   2904\u001b[0m             \u001b[0;32mif\u001b[0m \u001b[0mself\u001b[0m\u001b[0;34m.\u001b[0m\u001b[0mcolumns\u001b[0m\u001b[0;34m.\u001b[0m\u001b[0mnlevels\u001b[0m \u001b[0;34m>\u001b[0m \u001b[0;36m1\u001b[0m\u001b[0;34m:\u001b[0m\u001b[0;34m\u001b[0m\u001b[0;34m\u001b[0m\u001b[0m\n\u001b[1;32m   2905\u001b[0m                 \u001b[0;32mreturn\u001b[0m \u001b[0mself\u001b[0m\u001b[0;34m.\u001b[0m\u001b[0m_getitem_multilevel\u001b[0m\u001b[0;34m(\u001b[0m\u001b[0mkey\u001b[0m\u001b[0;34m)\u001b[0m\u001b[0;34m\u001b[0m\u001b[0;34m\u001b[0m\u001b[0m\n\u001b[0;32m-> 2906\u001b[0;31m             \u001b[0mindexer\u001b[0m \u001b[0;34m=\u001b[0m \u001b[0mself\u001b[0m\u001b[0;34m.\u001b[0m\u001b[0mcolumns\u001b[0m\u001b[0;34m.\u001b[0m\u001b[0mget_loc\u001b[0m\u001b[0;34m(\u001b[0m\u001b[0mkey\u001b[0m\u001b[0;34m)\u001b[0m\u001b[0;34m\u001b[0m\u001b[0;34m\u001b[0m\u001b[0m\n\u001b[0m\u001b[1;32m   2907\u001b[0m             \u001b[0;32mif\u001b[0m \u001b[0mis_integer\u001b[0m\u001b[0;34m(\u001b[0m\u001b[0mindexer\u001b[0m\u001b[0;34m)\u001b[0m\u001b[0;34m:\u001b[0m\u001b[0;34m\u001b[0m\u001b[0;34m\u001b[0m\u001b[0m\n\u001b[1;32m   2908\u001b[0m                 \u001b[0mindexer\u001b[0m \u001b[0;34m=\u001b[0m \u001b[0;34m[\u001b[0m\u001b[0mindexer\u001b[0m\u001b[0;34m]\u001b[0m\u001b[0;34m\u001b[0m\u001b[0;34m\u001b[0m\u001b[0m\n",
            "\u001b[0;32m/usr/local/lib/python3.7/dist-packages/pandas/core/indexes/base.py\u001b[0m in \u001b[0;36mget_loc\u001b[0;34m(self, key, method, tolerance)\u001b[0m\n\u001b[1;32m   2898\u001b[0m                 \u001b[0;32mreturn\u001b[0m \u001b[0mself\u001b[0m\u001b[0;34m.\u001b[0m\u001b[0m_engine\u001b[0m\u001b[0;34m.\u001b[0m\u001b[0mget_loc\u001b[0m\u001b[0;34m(\u001b[0m\u001b[0mcasted_key\u001b[0m\u001b[0;34m)\u001b[0m\u001b[0;34m\u001b[0m\u001b[0;34m\u001b[0m\u001b[0m\n\u001b[1;32m   2899\u001b[0m             \u001b[0;32mexcept\u001b[0m \u001b[0mKeyError\u001b[0m \u001b[0;32mas\u001b[0m \u001b[0merr\u001b[0m\u001b[0;34m:\u001b[0m\u001b[0;34m\u001b[0m\u001b[0;34m\u001b[0m\u001b[0m\n\u001b[0;32m-> 2900\u001b[0;31m                 \u001b[0;32mraise\u001b[0m \u001b[0mKeyError\u001b[0m\u001b[0;34m(\u001b[0m\u001b[0mkey\u001b[0m\u001b[0;34m)\u001b[0m \u001b[0;32mfrom\u001b[0m \u001b[0merr\u001b[0m\u001b[0;34m\u001b[0m\u001b[0;34m\u001b[0m\u001b[0m\n\u001b[0m\u001b[1;32m   2901\u001b[0m \u001b[0;34m\u001b[0m\u001b[0m\n\u001b[1;32m   2902\u001b[0m         \u001b[0;32mif\u001b[0m \u001b[0mtolerance\u001b[0m \u001b[0;32mis\u001b[0m \u001b[0;32mnot\u001b[0m \u001b[0;32mNone\u001b[0m\u001b[0;34m:\u001b[0m\u001b[0;34m\u001b[0m\u001b[0;34m\u001b[0m\u001b[0m\n",
            "\u001b[0;31mKeyError\u001b[0m: False"
          ]
        }
      ]
    },
    {
      "cell_type": "markdown",
      "metadata": {
        "id": "sfpjod4BRykk"
      },
      "source": [
        "### 1.3. Data types and handling missing values\n",
        "\n",
        ">1.3.1. List the different features and their data type. ¶\n"
      ]
    },
    {
      "cell_type": "code",
      "metadata": {
        "id": "fE5mx0PvV_3q",
        "colab": {
          "base_uri": "https://localhost:8080/"
        },
        "outputId": "cc1d44c3-34cb-4669-ad64-8c41a953f6e6"
      },
      "source": [
        "# YOUR CODE HERE\n",
        "df.info()"
      ],
      "execution_count": 534,
      "outputs": [
        {
          "output_type": "stream",
          "name": "stdout",
          "text": [
            "<class 'pandas.core.frame.DataFrame'>\n",
            "RangeIndex: 9800 entries, 0 to 9799\n",
            "Data columns (total 18 columns):\n",
            " #   Column         Non-Null Count  Dtype  \n",
            "---  ------         --------------  -----  \n",
            " 0   Row_ID         9800 non-null   int64  \n",
            " 1   Order_ID       9800 non-null   object \n",
            " 2   Order_Date     9800 non-null   object \n",
            " 3   Ship_Date      9800 non-null   object \n",
            " 4   Ship_Mode      9800 non-null   object \n",
            " 5   Customer_ID    9800 non-null   object \n",
            " 6   Customer_Name  9800 non-null   object \n",
            " 7   Segment        9800 non-null   object \n",
            " 8   Country        9800 non-null   object \n",
            " 9   City           9800 non-null   object \n",
            " 10  State          9800 non-null   object \n",
            " 11  Postal_Code    9789 non-null   float64\n",
            " 12  Region         9800 non-null   object \n",
            " 13  Product_ID     9800 non-null   object \n",
            " 14  Category       9800 non-null   object \n",
            " 15  Sub-Category   9800 non-null   object \n",
            " 16  Product_Name   9800 non-null   object \n",
            " 17  Sales          9800 non-null   float64\n",
            "dtypes: float64(2), int64(1), object(15)\n",
            "memory usage: 1.3+ MB\n"
          ]
        }
      ]
    },
    {
      "cell_type": "markdown",
      "metadata": {
        "id": "AfrXUll-dhki"
      },
      "source": [
        ">1.3.2. Are there any duplicated entries?"
      ]
    },
    {
      "cell_type": "code",
      "metadata": {
        "id": "khexK-jZdTqq",
        "colab": {
          "base_uri": "https://localhost:8080/"
        },
        "outputId": "1c61d889-b094-4aeb-b61d-ad94521f9699"
      },
      "source": [
        "# YOUR CODE HERE\n",
        "df.duplicated()"
      ],
      "execution_count": 535,
      "outputs": [
        {
          "output_type": "execute_result",
          "data": {
            "text/plain": [
              "0       False\n",
              "1       False\n",
              "2       False\n",
              "3       False\n",
              "4       False\n",
              "        ...  \n",
              "9795    False\n",
              "9796    False\n",
              "9797    False\n",
              "9798    False\n",
              "9799    False\n",
              "Length: 9800, dtype: bool"
            ]
          },
          "metadata": {},
          "execution_count": 535
        }
      ]
    },
    {
      "cell_type": "code",
      "metadata": {
        "colab": {
          "base_uri": "https://localhost:8080/",
          "height": 86
        },
        "id": "wdyfGe7yNPDE",
        "outputId": "ce9fd852-a1d4-46ac-917e-fcf5489a301d"
      },
      "source": [
        "df.loc[df.duplicated()=='True', :]"
      ],
      "execution_count": 536,
      "outputs": [
        {
          "output_type": "execute_result",
          "data": {
            "text/html": [
              "<div>\n",
              "<style scoped>\n",
              "    .dataframe tbody tr th:only-of-type {\n",
              "        vertical-align: middle;\n",
              "    }\n",
              "\n",
              "    .dataframe tbody tr th {\n",
              "        vertical-align: top;\n",
              "    }\n",
              "\n",
              "    .dataframe thead th {\n",
              "        text-align: right;\n",
              "    }\n",
              "</style>\n",
              "<table border=\"1\" class=\"dataframe\">\n",
              "  <thead>\n",
              "    <tr style=\"text-align: right;\">\n",
              "      <th></th>\n",
              "      <th>Row_ID</th>\n",
              "      <th>Order_ID</th>\n",
              "      <th>Order_Date</th>\n",
              "      <th>Ship_Date</th>\n",
              "      <th>Ship_Mode</th>\n",
              "      <th>Customer_ID</th>\n",
              "      <th>Customer_Name</th>\n",
              "      <th>Segment</th>\n",
              "      <th>Country</th>\n",
              "      <th>City</th>\n",
              "      <th>State</th>\n",
              "      <th>Postal_Code</th>\n",
              "      <th>Region</th>\n",
              "      <th>Product_ID</th>\n",
              "      <th>Category</th>\n",
              "      <th>Sub-Category</th>\n",
              "      <th>Product_Name</th>\n",
              "      <th>Sales</th>\n",
              "    </tr>\n",
              "  </thead>\n",
              "  <tbody>\n",
              "  </tbody>\n",
              "</table>\n",
              "</div>"
            ],
            "text/plain": [
              "Empty DataFrame\n",
              "Columns: [Row_ID, Order_ID, Order_Date, Ship_Date, Ship_Mode, Customer_ID, Customer_Name, Segment, Country, City, State, Postal_Code, Region, Product_ID, Category, Sub-Category, Product_Name, Sales]\n",
              "Index: []"
            ]
          },
          "metadata": {},
          "execution_count": 536
        }
      ]
    },
    {
      "cell_type": "markdown",
      "metadata": {
        "id": "E-jyMeW8NQlY"
      },
      "source": [
        "No, there are no duplicated entries."
      ]
    },
    {
      "cell_type": "markdown",
      "metadata": {
        "id": "IepEsmf4JFZz"
      },
      "source": [
        ">1.3.3. Change the data type for the following columns: Order Date, Ship Date (from string to datetime), Ship Mode and Segment, from string to category. "
      ]
    },
    {
      "cell_type": "code",
      "metadata": {
        "id": "6MHWijlkeCfy",
        "colab": {
          "base_uri": "https://localhost:8080/"
        },
        "outputId": "b4886597-7566-498f-f081-5c1df803236c"
      },
      "source": [
        "# YOUR CODE HERE\n",
        "df.Order_Date = pd.to_datetime(df.Order_Date, dayfirst=True)\n",
        "df.Ship_Date = pd.to_datetime(df.Ship_Date, dayfirst=True)\n",
        "df[[\"Ship_Mode\", \"Segment\"]] = df[[\"Ship_Mode\", \"Segment\"]].astype('category')\n",
        "df.info()"
      ],
      "execution_count": 537,
      "outputs": [
        {
          "output_type": "stream",
          "name": "stdout",
          "text": [
            "<class 'pandas.core.frame.DataFrame'>\n",
            "RangeIndex: 9800 entries, 0 to 9799\n",
            "Data columns (total 18 columns):\n",
            " #   Column         Non-Null Count  Dtype         \n",
            "---  ------         --------------  -----         \n",
            " 0   Row_ID         9800 non-null   int64         \n",
            " 1   Order_ID       9800 non-null   object        \n",
            " 2   Order_Date     9800 non-null   datetime64[ns]\n",
            " 3   Ship_Date      9800 non-null   datetime64[ns]\n",
            " 4   Ship_Mode      9800 non-null   category      \n",
            " 5   Customer_ID    9800 non-null   object        \n",
            " 6   Customer_Name  9800 non-null   object        \n",
            " 7   Segment        9800 non-null   category      \n",
            " 8   Country        9800 non-null   object        \n",
            " 9   City           9800 non-null   object        \n",
            " 10  State          9800 non-null   object        \n",
            " 11  Postal_Code    9789 non-null   float64       \n",
            " 12  Region         9800 non-null   object        \n",
            " 13  Product_ID     9800 non-null   object        \n",
            " 14  Category       9800 non-null   object        \n",
            " 15  Sub-Category   9800 non-null   object        \n",
            " 16  Product_Name   9800 non-null   object        \n",
            " 17  Sales          9800 non-null   float64       \n",
            "dtypes: category(2), datetime64[ns](2), float64(2), int64(1), object(11)\n",
            "memory usage: 1.2+ MB\n"
          ]
        }
      ]
    },
    {
      "cell_type": "markdown",
      "metadata": {
        "id": "H_X2BzEOVH_Q"
      },
      "source": [
        ">1.3.4. For which order period have these data samples been collected? (i.e, the oldest and the most recent order dates in the dataset)"
      ]
    },
    {
      "cell_type": "code",
      "metadata": {
        "id": "aPBLyrx9MGqz",
        "colab": {
          "base_uri": "https://localhost:8080/"
        },
        "outputId": "9313b5b4-560b-4226-8b5a-3947b1d720fd"
      },
      "source": [
        "# YOUR CODE HERE\n",
        "df.Order_Date.describe()"
      ],
      "execution_count": 538,
      "outputs": [
        {
          "output_type": "stream",
          "name": "stderr",
          "text": [
            "/usr/local/lib/python3.7/dist-packages/ipykernel_launcher.py:2: FutureWarning: Treating datetime data as categorical rather than numeric in `.describe` is deprecated and will be removed in a future version of pandas. Specify `datetime_is_numeric=True` to silence this warning and adopt the future behavior now.\n",
            "  \n"
          ]
        },
        {
          "output_type": "execute_result",
          "data": {
            "text/plain": [
              "count                    9800\n",
              "unique                   1230\n",
              "top       2017-09-05 00:00:00\n",
              "freq                       38\n",
              "first     2015-01-03 00:00:00\n",
              "last      2018-12-30 00:00:00\n",
              "Name: Order_Date, dtype: object"
            ]
          },
          "metadata": {},
          "execution_count": 538
        }
      ]
    },
    {
      "cell_type": "markdown",
      "metadata": {
        "id": "C1s2NgO3Unv8"
      },
      "source": [
        ">1.3.5. For the postal code column, drop the missing values and set the data type to an integer and then to a string (make sure the final format of the ZIP code is of this kind: 42420 and not 42420.0).\n"
      ]
    },
    {
      "cell_type": "code",
      "metadata": {
        "id": "QbnduUdgU7Ss",
        "colab": {
          "base_uri": "https://localhost:8080/"
        },
        "outputId": "240c728f-624a-4b9c-8ab0-3f565d365854"
      },
      "source": [
        "# YOUR CODE HERE\n",
        "df.Postal_Code.isnull().sum()"
      ],
      "execution_count": 539,
      "outputs": [
        {
          "output_type": "execute_result",
          "data": {
            "text/plain": [
              "11"
            ]
          },
          "metadata": {},
          "execution_count": 539
        }
      ]
    },
    {
      "cell_type": "code",
      "metadata": {
        "colab": {
          "base_uri": "https://localhost:8080/"
        },
        "id": "hNNWybTHg5xd",
        "outputId": "09ed6a66-deaa-4873-9845-8a6fe1e881bc"
      },
      "source": [
        "df.dropna(axis=0, inplace=True)\n",
        "df.Postal_Code.isnull().sum()"
      ],
      "execution_count": 540,
      "outputs": [
        {
          "output_type": "execute_result",
          "data": {
            "text/plain": [
              "0"
            ]
          },
          "metadata": {},
          "execution_count": 540
        }
      ]
    },
    {
      "cell_type": "code",
      "metadata": {
        "colab": {
          "base_uri": "https://localhost:8080/"
        },
        "id": "iPXtANKth4wm",
        "outputId": "08d0a9f3-f0c7-481f-bbe9-1c9554828ab3"
      },
      "source": [
        "df['Postal_Code']=df['Postal_Code'].astype(int)\n",
        "df.Postal_Code.dtypes"
      ],
      "execution_count": 541,
      "outputs": [
        {
          "output_type": "execute_result",
          "data": {
            "text/plain": [
              "dtype('int64')"
            ]
          },
          "metadata": {},
          "execution_count": 541
        }
      ]
    },
    {
      "cell_type": "code",
      "metadata": {
        "colab": {
          "base_uri": "https://localhost:8080/"
        },
        "id": "EAsK7EPbk0wi",
        "outputId": "8ac1fa98-d1da-4e87-d9f4-0db1e356435f"
      },
      "source": [
        "df['Postal_Code']=df['Postal_Code'].astype(str)\n",
        "df.info()"
      ],
      "execution_count": 542,
      "outputs": [
        {
          "output_type": "stream",
          "name": "stdout",
          "text": [
            "<class 'pandas.core.frame.DataFrame'>\n",
            "Int64Index: 9789 entries, 0 to 9799\n",
            "Data columns (total 18 columns):\n",
            " #   Column         Non-Null Count  Dtype         \n",
            "---  ------         --------------  -----         \n",
            " 0   Row_ID         9789 non-null   int64         \n",
            " 1   Order_ID       9789 non-null   object        \n",
            " 2   Order_Date     9789 non-null   datetime64[ns]\n",
            " 3   Ship_Date      9789 non-null   datetime64[ns]\n",
            " 4   Ship_Mode      9789 non-null   category      \n",
            " 5   Customer_ID    9789 non-null   object        \n",
            " 6   Customer_Name  9789 non-null   object        \n",
            " 7   Segment        9789 non-null   category      \n",
            " 8   Country        9789 non-null   object        \n",
            " 9   City           9789 non-null   object        \n",
            " 10  State          9789 non-null   object        \n",
            " 11  Postal_Code    9789 non-null   object        \n",
            " 12  Region         9789 non-null   object        \n",
            " 13  Product_ID     9789 non-null   object        \n",
            " 14  Category       9789 non-null   object        \n",
            " 15  Sub-Category   9789 non-null   object        \n",
            " 16  Product_Name   9789 non-null   object        \n",
            " 17  Sales          9789 non-null   float64       \n",
            "dtypes: category(2), datetime64[ns](2), float64(1), int64(1), object(12)\n",
            "memory usage: 1.3+ MB\n"
          ]
        }
      ]
    },
    {
      "cell_type": "markdown",
      "metadata": {
        "id": "H-NvGlwviKQ_"
      },
      "source": [
        "\n",
        "## 2. Exploratory Data Analysis and Visualization"
      ]
    },
    {
      "cell_type": "markdown",
      "metadata": {
        "id": "Bdwn8aIoggyt"
      },
      "source": [
        ">2.1 Which are the top 5 dates on which the store reached the highest *value* of sales over the entire period included in the dataset?"
      ]
    },
    {
      "cell_type": "code",
      "metadata": {
        "id": "FlVkgZUKfuPe",
        "colab": {
          "base_uri": "https://localhost:8080/",
          "height": 204
        },
        "outputId": "8d9baba5-758e-4788-9b29-f98b44225d5b"
      },
      "source": [
        "# YOUR CODE HERE\n",
        "df.groupby(\"Order_Date\", as_index=False)[\"Sales\"].agg({\"Sales\": \"sum\"}).sort_values(\"Sales\", ascending=False).reset_index().head(5)"
      ],
      "execution_count": 543,
      "outputs": [
        {
          "output_type": "execute_result",
          "data": {
            "text/html": [
              "<div>\n",
              "<style scoped>\n",
              "    .dataframe tbody tr th:only-of-type {\n",
              "        vertical-align: middle;\n",
              "    }\n",
              "\n",
              "    .dataframe tbody tr th {\n",
              "        vertical-align: top;\n",
              "    }\n",
              "\n",
              "    .dataframe thead th {\n",
              "        text-align: right;\n",
              "    }\n",
              "</style>\n",
              "<table border=\"1\" class=\"dataframe\">\n",
              "  <thead>\n",
              "    <tr style=\"text-align: right;\">\n",
              "      <th></th>\n",
              "      <th>index</th>\n",
              "      <th>Order_Date</th>\n",
              "      <th>Sales</th>\n",
              "    </tr>\n",
              "  </thead>\n",
              "  <tbody>\n",
              "    <tr>\n",
              "      <th>0</th>\n",
              "      <td>53</td>\n",
              "      <td>2015-03-18</td>\n",
              "      <td>28106.716</td>\n",
              "    </tr>\n",
              "    <tr>\n",
              "      <th>1</th>\n",
              "      <td>824</td>\n",
              "      <td>2017-10-02</td>\n",
              "      <td>18452.972</td>\n",
              "    </tr>\n",
              "    <tr>\n",
              "      <th>2</th>\n",
              "      <td>1161</td>\n",
              "      <td>2018-10-22</td>\n",
              "      <td>15158.877</td>\n",
              "    </tr>\n",
              "    <tr>\n",
              "      <th>3</th>\n",
              "      <td>969</td>\n",
              "      <td>2018-03-23</td>\n",
              "      <td>14816.068</td>\n",
              "    </tr>\n",
              "    <tr>\n",
              "      <th>4</th>\n",
              "      <td>195</td>\n",
              "      <td>2015-09-08</td>\n",
              "      <td>14228.428</td>\n",
              "    </tr>\n",
              "  </tbody>\n",
              "</table>\n",
              "</div>"
            ],
            "text/plain": [
              "   index Order_Date      Sales\n",
              "0     53 2015-03-18  28106.716\n",
              "1    824 2017-10-02  18452.972\n",
              "2   1161 2018-10-22  15158.877\n",
              "3    969 2018-03-23  14816.068\n",
              "4    195 2015-09-08  14228.428"
            ]
          },
          "metadata": {},
          "execution_count": 543
        }
      ]
    },
    {
      "cell_type": "markdown",
      "metadata": {
        "id": "AeyF9LSpidyP"
      },
      "source": [
        ">2.2 How many unique customers did the shop have over this period?"
      ]
    },
    {
      "cell_type": "code",
      "metadata": {
        "id": "35gdkeJfkj59",
        "colab": {
          "base_uri": "https://localhost:8080/",
          "height": 419
        },
        "outputId": "45917ba7-5fca-49fd-9a2f-2e878d551750"
      },
      "source": [
        "# YOUR CODE HERE\n",
        "df.groupby('Customer_ID', as_index=False)['Sales'].sum()"
      ],
      "execution_count": 544,
      "outputs": [
        {
          "output_type": "execute_result",
          "data": {
            "text/html": [
              "<div>\n",
              "<style scoped>\n",
              "    .dataframe tbody tr th:only-of-type {\n",
              "        vertical-align: middle;\n",
              "    }\n",
              "\n",
              "    .dataframe tbody tr th {\n",
              "        vertical-align: top;\n",
              "    }\n",
              "\n",
              "    .dataframe thead th {\n",
              "        text-align: right;\n",
              "    }\n",
              "</style>\n",
              "<table border=\"1\" class=\"dataframe\">\n",
              "  <thead>\n",
              "    <tr style=\"text-align: right;\">\n",
              "      <th></th>\n",
              "      <th>Customer_ID</th>\n",
              "      <th>Sales</th>\n",
              "    </tr>\n",
              "  </thead>\n",
              "  <tbody>\n",
              "    <tr>\n",
              "      <th>0</th>\n",
              "      <td>AA-10315</td>\n",
              "      <td>5563.560</td>\n",
              "    </tr>\n",
              "    <tr>\n",
              "      <th>1</th>\n",
              "      <td>AA-10375</td>\n",
              "      <td>1056.390</td>\n",
              "    </tr>\n",
              "    <tr>\n",
              "      <th>2</th>\n",
              "      <td>AA-10480</td>\n",
              "      <td>1790.512</td>\n",
              "    </tr>\n",
              "    <tr>\n",
              "      <th>3</th>\n",
              "      <td>AA-10645</td>\n",
              "      <td>5086.935</td>\n",
              "    </tr>\n",
              "    <tr>\n",
              "      <th>4</th>\n",
              "      <td>AB-10015</td>\n",
              "      <td>886.156</td>\n",
              "    </tr>\n",
              "    <tr>\n",
              "      <th>...</th>\n",
              "      <td>...</td>\n",
              "      <td>...</td>\n",
              "    </tr>\n",
              "    <tr>\n",
              "      <th>788</th>\n",
              "      <td>XP-21865</td>\n",
              "      <td>2374.658</td>\n",
              "    </tr>\n",
              "    <tr>\n",
              "      <th>789</th>\n",
              "      <td>YC-21895</td>\n",
              "      <td>5454.350</td>\n",
              "    </tr>\n",
              "    <tr>\n",
              "      <th>790</th>\n",
              "      <td>YS-21880</td>\n",
              "      <td>6720.444</td>\n",
              "    </tr>\n",
              "    <tr>\n",
              "      <th>791</th>\n",
              "      <td>ZC-21910</td>\n",
              "      <td>8025.707</td>\n",
              "    </tr>\n",
              "    <tr>\n",
              "      <th>792</th>\n",
              "      <td>ZD-21925</td>\n",
              "      <td>1493.944</td>\n",
              "    </tr>\n",
              "  </tbody>\n",
              "</table>\n",
              "<p>793 rows × 2 columns</p>\n",
              "</div>"
            ],
            "text/plain": [
              "    Customer_ID     Sales\n",
              "0      AA-10315  5563.560\n",
              "1      AA-10375  1056.390\n",
              "2      AA-10480  1790.512\n",
              "3      AA-10645  5086.935\n",
              "4      AB-10015   886.156\n",
              "..          ...       ...\n",
              "788    XP-21865  2374.658\n",
              "789    YC-21895  5454.350\n",
              "790    YS-21880  6720.444\n",
              "791    ZC-21910  8025.707\n",
              "792    ZD-21925  1493.944\n",
              "\n",
              "[793 rows x 2 columns]"
            ]
          },
          "metadata": {},
          "execution_count": 544
        }
      ]
    },
    {
      "cell_type": "markdown",
      "metadata": {
        "id": "jAtNUTdhtZKw"
      },
      "source": [
        "793 unique costumers."
      ]
    },
    {
      "cell_type": "markdown",
      "metadata": {
        "id": "xTKAqb33QHYP"
      },
      "source": [
        ">...Plot the top ten customers by total value of their orders in a horizontal bar chart."
      ]
    },
    {
      "cell_type": "code",
      "metadata": {
        "id": "7fwCxScMi8Bm",
        "colab": {
          "base_uri": "https://localhost:8080/",
          "height": 384
        },
        "outputId": "849c6c6a-0d4a-4ba2-97cc-857ee45f05b0"
      },
      "source": [
        "# YOUR CODE HERE\n",
        "top_10 = df.pivot_table(index=\"Customer_Name\", values=\"Sales\", aggfunc='sum').sort_values(\"Sales\", ascending=False).head(10)\n",
        "top_10.plot(kind='bar')"
      ],
      "execution_count": 545,
      "outputs": [
        {
          "output_type": "execute_result",
          "data": {
            "text/plain": [
              "<matplotlib.axes._subplots.AxesSubplot at 0x7f37de684f90>"
            ]
          },
          "metadata": {},
          "execution_count": 545
        },
        {
          "output_type": "display_data",
          "data": {
            "image/png": "[encoded data removed]",
            "text/plain": [
              "<Figure size 432x288 with 1 Axes>"
            ]
          },
          "metadata": {}
        }
      ]
    },
    {
      "cell_type": "markdown",
      "metadata": {
        "id": "9xJh796GqhJ-"
      },
      "source": [
        ">2.3. What are the most frequently bought product sub-categories ? \n",
        ">\n",
        "> Hint: look at sub-category and count the times they appear in the dataset."
      ]
    },
    {
      "cell_type": "code",
      "metadata": {
        "id": "pd5YfUGDqllc",
        "colab": {
          "base_uri": "https://localhost:8080/"
        },
        "outputId": "c34bd843-33ab-4f9b-94ad-4d21bbfa5ca5"
      },
      "source": [
        "# YOUR CODE HERE\n",
        "df[\"Sub-Category\"].value_counts()\n"
      ],
      "execution_count": 546,
      "outputs": [
        {
          "output_type": "execute_result",
          "data": {
            "text/plain": [
              "Binders        1492\n",
              "Paper          1336\n",
              "Furnishings     931\n",
              "Phones          875\n",
              "Storage         831\n",
              "Art             784\n",
              "Accessories     754\n",
              "Chairs          606\n",
              "Appliances      458\n",
              "Labels          357\n",
              "Tables          314\n",
              "Envelopes       247\n",
              "Bookcases       225\n",
              "Fasteners       214\n",
              "Supplies        184\n",
              "Machines        115\n",
              "Copiers          66\n",
              "Name: Sub-Category, dtype: int64"
            ]
          },
          "metadata": {},
          "execution_count": 546
        }
      ]
    },
    {
      "cell_type": "markdown",
      "metadata": {
        "id": "jrNQ6Gq4Qiv2"
      },
      "source": [
        ">...What are the product sub-categories that generated the highest value of sales over the entire period?\n",
        ">\n",
        "> Hint: aggregate sales by sub-category."
      ]
    },
    {
      "cell_type": "code",
      "metadata": {
        "id": "0GPqlCLxVDBH",
        "colab": {
          "base_uri": "https://localhost:8080/",
          "height": 576
        },
        "outputId": "aaedc278-76eb-4111-cd2e-1433e9440d2f"
      },
      "source": [
        "# YOUR CODE HERE\n",
        "df.groupby(\"Sub-Category\", as_index=False)[\"Sales\"].agg({\"Sales\": \"sum\"}).sort_values(\"Sales\", ascending=False).reset_index()"
      ],
      "execution_count": 547,
      "outputs": [
        {
          "output_type": "execute_result",
          "data": {
            "text/html": [
              "<div>\n",
              "<style scoped>\n",
              "    .dataframe tbody tr th:only-of-type {\n",
              "        vertical-align: middle;\n",
              "    }\n",
              "\n",
              "    .dataframe tbody tr th {\n",
              "        vertical-align: top;\n",
              "    }\n",
              "\n",
              "    .dataframe thead th {\n",
              "        text-align: right;\n",
              "    }\n",
              "</style>\n",
              "<table border=\"1\" class=\"dataframe\">\n",
              "  <thead>\n",
              "    <tr style=\"text-align: right;\">\n",
              "      <th></th>\n",
              "      <th>index</th>\n",
              "      <th>Sub-Category</th>\n",
              "      <th>Sales</th>\n",
              "    </tr>\n",
              "  </thead>\n",
              "  <tbody>\n",
              "    <tr>\n",
              "      <th>0</th>\n",
              "      <td>13</td>\n",
              "      <td>Phones</td>\n",
              "      <td>326487.6980</td>\n",
              "    </tr>\n",
              "    <tr>\n",
              "      <th>1</th>\n",
              "      <td>5</td>\n",
              "      <td>Chairs</td>\n",
              "      <td>322107.5310</td>\n",
              "    </tr>\n",
              "    <tr>\n",
              "      <th>2</th>\n",
              "      <td>14</td>\n",
              "      <td>Storage</td>\n",
              "      <td>217779.1020</td>\n",
              "    </tr>\n",
              "    <tr>\n",
              "      <th>3</th>\n",
              "      <td>16</td>\n",
              "      <td>Tables</td>\n",
              "      <td>202810.6280</td>\n",
              "    </tr>\n",
              "    <tr>\n",
              "      <th>4</th>\n",
              "      <td>3</td>\n",
              "      <td>Binders</td>\n",
              "      <td>200028.7850</td>\n",
              "    </tr>\n",
              "    <tr>\n",
              "      <th>5</th>\n",
              "      <td>11</td>\n",
              "      <td>Machines</td>\n",
              "      <td>189238.6310</td>\n",
              "    </tr>\n",
              "    <tr>\n",
              "      <th>6</th>\n",
              "      <td>0</td>\n",
              "      <td>Accessories</td>\n",
              "      <td>163881.6900</td>\n",
              "    </tr>\n",
              "    <tr>\n",
              "      <th>7</th>\n",
              "      <td>6</td>\n",
              "      <td>Copiers</td>\n",
              "      <td>146248.0940</td>\n",
              "    </tr>\n",
              "    <tr>\n",
              "      <th>8</th>\n",
              "      <td>4</td>\n",
              "      <td>Bookcases</td>\n",
              "      <td>109408.2987</td>\n",
              "    </tr>\n",
              "    <tr>\n",
              "      <th>9</th>\n",
              "      <td>1</td>\n",
              "      <td>Appliances</td>\n",
              "      <td>104075.4630</td>\n",
              "    </tr>\n",
              "    <tr>\n",
              "      <th>10</th>\n",
              "      <td>9</td>\n",
              "      <td>Furnishings</td>\n",
              "      <td>89212.0180</td>\n",
              "    </tr>\n",
              "    <tr>\n",
              "      <th>11</th>\n",
              "      <td>12</td>\n",
              "      <td>Paper</td>\n",
              "      <td>76736.1040</td>\n",
              "    </tr>\n",
              "    <tr>\n",
              "      <th>12</th>\n",
              "      <td>15</td>\n",
              "      <td>Supplies</td>\n",
              "      <td>46420.3080</td>\n",
              "    </tr>\n",
              "    <tr>\n",
              "      <th>13</th>\n",
              "      <td>2</td>\n",
              "      <td>Art</td>\n",
              "      <td>26697.3700</td>\n",
              "    </tr>\n",
              "    <tr>\n",
              "      <th>14</th>\n",
              "      <td>7</td>\n",
              "      <td>Envelopes</td>\n",
              "      <td>16126.0060</td>\n",
              "    </tr>\n",
              "    <tr>\n",
              "      <th>15</th>\n",
              "      <td>10</td>\n",
              "      <td>Labels</td>\n",
              "      <td>12347.7260</td>\n",
              "    </tr>\n",
              "    <tr>\n",
              "      <th>16</th>\n",
              "      <td>8</td>\n",
              "      <td>Fasteners</td>\n",
              "      <td>3001.9600</td>\n",
              "    </tr>\n",
              "  </tbody>\n",
              "</table>\n",
              "</div>"
            ],
            "text/plain": [
              "    index Sub-Category        Sales\n",
              "0      13       Phones  326487.6980\n",
              "1       5       Chairs  322107.5310\n",
              "2      14      Storage  217779.1020\n",
              "3      16       Tables  202810.6280\n",
              "4       3      Binders  200028.7850\n",
              "5      11     Machines  189238.6310\n",
              "6       0  Accessories  163881.6900\n",
              "7       6      Copiers  146248.0940\n",
              "8       4    Bookcases  109408.2987\n",
              "9       1   Appliances  104075.4630\n",
              "10      9  Furnishings   89212.0180\n",
              "11     12        Paper   76736.1040\n",
              "12     15     Supplies   46420.3080\n",
              "13      2          Art   26697.3700\n",
              "14      7    Envelopes   16126.0060\n",
              "15     10       Labels   12347.7260\n",
              "16      8    Fasteners    3001.9600"
            ]
          },
          "metadata": {},
          "execution_count": 547
        }
      ]
    },
    {
      "cell_type": "markdown",
      "metadata": {
        "id": "0ZzouGeaRZ7z"
      },
      "source": [
        ">...What was the average purchase price of a phone sold by the store?"
      ]
    },
    {
      "cell_type": "code",
      "metadata": {
        "id": "76tjDZlzTfMe",
        "colab": {
          "base_uri": "https://localhost:8080/"
        },
        "outputId": "4185154f-02e7-4af7-ce03-1d61d03d28ba"
      },
      "source": [
        "# YOUR CODE HERE\n",
        "df['Sub-Category'].value_counts()"
      ],
      "execution_count": 548,
      "outputs": [
        {
          "output_type": "execute_result",
          "data": {
            "text/plain": [
              "Binders        1492\n",
              "Paper          1336\n",
              "Furnishings     931\n",
              "Phones          875\n",
              "Storage         831\n",
              "Art             784\n",
              "Accessories     754\n",
              "Chairs          606\n",
              "Appliances      458\n",
              "Labels          357\n",
              "Tables          314\n",
              "Envelopes       247\n",
              "Bookcases       225\n",
              "Fasteners       214\n",
              "Supplies        184\n",
              "Machines        115\n",
              "Copiers          66\n",
              "Name: Sub-Category, dtype: int64"
            ]
          },
          "metadata": {},
          "execution_count": 548
        }
      ]
    },
    {
      "cell_type": "code",
      "metadata": {
        "colab": {
          "base_uri": "https://localhost:8080/"
        },
        "id": "0E8gFSje8ECY",
        "outputId": "cbc2145b-5d01-49ec-ffcc-4eb67079bc7b"
      },
      "source": [
        "326487.6980/875"
      ],
      "execution_count": 27,
      "outputs": [
        {
          "output_type": "execute_result",
          "data": {
            "text/plain": [
              "373.12879771428567"
            ]
          },
          "metadata": {},
          "execution_count": 27
        }
      ]
    },
    {
      "cell_type": "markdown",
      "metadata": {
        "id": "lEnKlgjJZwRN"
      },
      "source": [
        ">2.4 Create a new column storing the time difference between Ship Date and Order Date. What was the longest, shortest and the average delivery time difference?"
      ]
    },
    {
      "cell_type": "code",
      "metadata": {
        "id": "A1ye8bE_Zkvq",
        "colab": {
          "base_uri": "https://localhost:8080/"
        },
        "outputId": "1f97f03f-8e9e-49ce-92a4-5927b3025a89"
      },
      "source": [
        "# YOUR CODE HERE\n",
        "df['TimeDiff'] = df['Ship_Date'] - df['Order_Date']\n",
        "df['TimeDiff'].describe()"
      ],
      "execution_count": 549,
      "outputs": [
        {
          "output_type": "execute_result",
          "data": {
            "text/plain": [
              "count                         9789\n",
              "mean     3 days 23:04:06.031259577\n",
              "std      1 days 18:00:39.083391657\n",
              "min                0 days 00:00:00\n",
              "25%                3 days 00:00:00\n",
              "50%                4 days 00:00:00\n",
              "75%                5 days 00:00:00\n",
              "max                7 days 00:00:00\n",
              "Name: TimeDiff, dtype: object"
            ]
          },
          "metadata": {},
          "execution_count": 549
        }
      ]
    },
    {
      "cell_type": "code",
      "metadata": {
        "colab": {
          "base_uri": "https://localhost:8080/",
          "height": 332
        },
        "id": "oyvxgbJxACr8",
        "outputId": "281cd587-d526-4215-8369-23f6993f3598"
      },
      "source": [
        "df.head(3)"
      ],
      "execution_count": 550,
      "outputs": [
        {
          "output_type": "execute_result",
          "data": {
            "text/html": [
              "<div>\n",
              "<style scoped>\n",
              "    .dataframe tbody tr th:only-of-type {\n",
              "        vertical-align: middle;\n",
              "    }\n",
              "\n",
              "    .dataframe tbody tr th {\n",
              "        vertical-align: top;\n",
              "    }\n",
              "\n",
              "    .dataframe thead th {\n",
              "        text-align: right;\n",
              "    }\n",
              "</style>\n",
              "<table border=\"1\" class=\"dataframe\">\n",
              "  <thead>\n",
              "    <tr style=\"text-align: right;\">\n",
              "      <th></th>\n",
              "      <th>Row_ID</th>\n",
              "      <th>Order_ID</th>\n",
              "      <th>Order_Date</th>\n",
              "      <th>Ship_Date</th>\n",
              "      <th>Ship_Mode</th>\n",
              "      <th>Customer_ID</th>\n",
              "      <th>Customer_Name</th>\n",
              "      <th>Segment</th>\n",
              "      <th>Country</th>\n",
              "      <th>City</th>\n",
              "      <th>State</th>\n",
              "      <th>Postal_Code</th>\n",
              "      <th>Region</th>\n",
              "      <th>Product_ID</th>\n",
              "      <th>Category</th>\n",
              "      <th>Sub-Category</th>\n",
              "      <th>Product_Name</th>\n",
              "      <th>Sales</th>\n",
              "      <th>TimeDiff</th>\n",
              "    </tr>\n",
              "  </thead>\n",
              "  <tbody>\n",
              "    <tr>\n",
              "      <th>0</th>\n",
              "      <td>1</td>\n",
              "      <td>CA-2017-152156</td>\n",
              "      <td>2017-11-08</td>\n",
              "      <td>2017-11-11</td>\n",
              "      <td>Second Class</td>\n",
              "      <td>CG-12520</td>\n",
              "      <td>Claire Gute</td>\n",
              "      <td>Consumer</td>\n",
              "      <td>United States</td>\n",
              "      <td>Henderson</td>\n",
              "      <td>Kentucky</td>\n",
              "      <td>42420</td>\n",
              "      <td>South</td>\n",
              "      <td>FUR-BO-10001798</td>\n",
              "      <td>Furniture</td>\n",
              "      <td>Bookcases</td>\n",
              "      <td>Bush Somerset Collection Bookcase</td>\n",
              "      <td>261.96</td>\n",
              "      <td>3 days</td>\n",
              "    </tr>\n",
              "    <tr>\n",
              "      <th>1</th>\n",
              "      <td>2</td>\n",
              "      <td>CA-2017-152156</td>\n",
              "      <td>2017-11-08</td>\n",
              "      <td>2017-11-11</td>\n",
              "      <td>Second Class</td>\n",
              "      <td>CG-12520</td>\n",
              "      <td>Claire Gute</td>\n",
              "      <td>Consumer</td>\n",
              "      <td>United States</td>\n",
              "      <td>Henderson</td>\n",
              "      <td>Kentucky</td>\n",
              "      <td>42420</td>\n",
              "      <td>South</td>\n",
              "      <td>FUR-CH-10000454</td>\n",
              "      <td>Furniture</td>\n",
              "      <td>Chairs</td>\n",
              "      <td>Hon Deluxe Fabric Upholstered Stacking Chairs,...</td>\n",
              "      <td>731.94</td>\n",
              "      <td>3 days</td>\n",
              "    </tr>\n",
              "    <tr>\n",
              "      <th>2</th>\n",
              "      <td>3</td>\n",
              "      <td>CA-2017-138688</td>\n",
              "      <td>2017-06-12</td>\n",
              "      <td>2017-06-16</td>\n",
              "      <td>Second Class</td>\n",
              "      <td>DV-13045</td>\n",
              "      <td>Darrin Van Huff</td>\n",
              "      <td>Corporate</td>\n",
              "      <td>United States</td>\n",
              "      <td>Los Angeles</td>\n",
              "      <td>California</td>\n",
              "      <td>90036</td>\n",
              "      <td>West</td>\n",
              "      <td>OFF-LA-10000240</td>\n",
              "      <td>Office Supplies</td>\n",
              "      <td>Labels</td>\n",
              "      <td>Self-Adhesive Address Labels for Typewriters b...</td>\n",
              "      <td>14.62</td>\n",
              "      <td>4 days</td>\n",
              "    </tr>\n",
              "  </tbody>\n",
              "</table>\n",
              "</div>"
            ],
            "text/plain": [
              "   Row_ID        Order_ID  ...   Sales TimeDiff\n",
              "0       1  CA-2017-152156  ...  261.96   3 days\n",
              "1       2  CA-2017-152156  ...  731.94   3 days\n",
              "2       3  CA-2017-138688  ...   14.62   4 days\n",
              "\n",
              "[3 rows x 19 columns]"
            ]
          },
          "metadata": {},
          "execution_count": 550
        }
      ]
    },
    {
      "cell_type": "markdown",
      "metadata": {
        "id": "tEOwefHvSsbZ"
      },
      "source": [
        "> 2.5. How many orders (not items) had a delivery time of 6 or more days? \n",
        ">\n",
        "> Hint: you may want to use [`pd.Timedelta()`](https://pandas.pydata.org/docs/reference/api/pandas.Timedelta.html)."
      ]
    },
    {
      "cell_type": "code",
      "metadata": {
        "id": "1VgAw5sMg4Tx"
      },
      "source": [
        ""
      ],
      "execution_count": null,
      "outputs": []
    },
    {
      "cell_type": "code",
      "metadata": {
        "id": "9BoxdiOObUWs",
        "colab": {
          "base_uri": "https://localhost:8080/",
          "height": 324
        },
        "outputId": "77ba158e-f433-4243-8e40-2ef35719760b"
      },
      "source": [
        "# YOUR CODE HERE\n",
        "df[df > 6].count(level='TimeDiff')"
      ],
      "execution_count": 551,
      "outputs": [
        {
          "output_type": "error",
          "ename": "TypeError",
          "evalue": "ignored",
          "traceback": [
            "\u001b[0;31m---------------------------------------------------------------------------\u001b[0m",
            "\u001b[0;31mTypeError\u001b[0m                                 Traceback (most recent call last)",
            "\u001b[0;32m<ipython-input-551-61c3848b1a32>\u001b[0m in \u001b[0;36m<module>\u001b[0;34m()\u001b[0m\n\u001b[1;32m      1\u001b[0m \u001b[0;31m# YOUR CODE HERE\u001b[0m\u001b[0;34m\u001b[0m\u001b[0;34m\u001b[0m\u001b[0;34m\u001b[0m\u001b[0m\n\u001b[0;32m----> 2\u001b[0;31m \u001b[0mdf\u001b[0m\u001b[0;34m[\u001b[0m\u001b[0mdf\u001b[0m \u001b[0;34m>\u001b[0m \u001b[0;36m6\u001b[0m\u001b[0;34m]\u001b[0m\u001b[0;34m.\u001b[0m\u001b[0mcount\u001b[0m\u001b[0;34m(\u001b[0m\u001b[0mlevel\u001b[0m\u001b[0;34m=\u001b[0m\u001b[0;34m'TimeDiff'\u001b[0m\u001b[0;34m)\u001b[0m\u001b[0;34m\u001b[0m\u001b[0;34m\u001b[0m\u001b[0m\n\u001b[0m",
            "\u001b[0;32m/usr/local/lib/python3.7/dist-packages/pandas/core/ops/__init__.py\u001b[0m in \u001b[0;36mf\u001b[0;34m(self, other)\u001b[0m\n\u001b[1;32m    706\u001b[0m \u001b[0;34m\u001b[0m\u001b[0m\n\u001b[1;32m    707\u001b[0m         \u001b[0;31m# See GH#4537 for discussion of scalar op behavior\u001b[0m\u001b[0;34m\u001b[0m\u001b[0;34m\u001b[0m\u001b[0;34m\u001b[0m\u001b[0m\n\u001b[0;32m--> 708\u001b[0;31m         \u001b[0mnew_data\u001b[0m \u001b[0;34m=\u001b[0m \u001b[0mdispatch_to_series\u001b[0m\u001b[0;34m(\u001b[0m\u001b[0mself\u001b[0m\u001b[0;34m,\u001b[0m \u001b[0mother\u001b[0m\u001b[0;34m,\u001b[0m \u001b[0mop\u001b[0m\u001b[0;34m,\u001b[0m \u001b[0maxis\u001b[0m\u001b[0;34m=\u001b[0m\u001b[0maxis\u001b[0m\u001b[0;34m)\u001b[0m\u001b[0;34m\u001b[0m\u001b[0;34m\u001b[0m\u001b[0m\n\u001b[0m\u001b[1;32m    709\u001b[0m         \u001b[0;32mreturn\u001b[0m \u001b[0mself\u001b[0m\u001b[0;34m.\u001b[0m\u001b[0m_construct_result\u001b[0m\u001b[0;34m(\u001b[0m\u001b[0mnew_data\u001b[0m\u001b[0;34m)\u001b[0m\u001b[0;34m\u001b[0m\u001b[0;34m\u001b[0m\u001b[0m\n\u001b[1;32m    710\u001b[0m \u001b[0;34m\u001b[0m\u001b[0m\n",
            "\u001b[0;32m/usr/local/lib/python3.7/dist-packages/pandas/core/ops/__init__.py\u001b[0m in \u001b[0;36mdispatch_to_series\u001b[0;34m(left, right, func, axis)\u001b[0m\n\u001b[1;32m    263\u001b[0m     \u001b[0;32mif\u001b[0m \u001b[0;32mnot\u001b[0m \u001b[0mis_list_like\u001b[0m\u001b[0;34m(\u001b[0m\u001b[0mright\u001b[0m\u001b[0;34m)\u001b[0m\u001b[0;34m:\u001b[0m\u001b[0;34m\u001b[0m\u001b[0;34m\u001b[0m\u001b[0m\n\u001b[1;32m    264\u001b[0m         \u001b[0;31m# i.e. scalar, faster than checking np.ndim(right) == 0\u001b[0m\u001b[0;34m\u001b[0m\u001b[0;34m\u001b[0m\u001b[0;34m\u001b[0m\u001b[0m\n\u001b[0;32m--> 265\u001b[0;31m         \u001b[0mbm\u001b[0m \u001b[0;34m=\u001b[0m \u001b[0mleft\u001b[0m\u001b[0;34m.\u001b[0m\u001b[0m_mgr\u001b[0m\u001b[0;34m.\u001b[0m\u001b[0mapply\u001b[0m\u001b[0;34m(\u001b[0m\u001b[0marray_op\u001b[0m\u001b[0;34m,\u001b[0m \u001b[0mright\u001b[0m\u001b[0;34m=\u001b[0m\u001b[0mright\u001b[0m\u001b[0;34m)\u001b[0m\u001b[0;34m\u001b[0m\u001b[0;34m\u001b[0m\u001b[0m\n\u001b[0m\u001b[1;32m    266\u001b[0m         \u001b[0;32mreturn\u001b[0m \u001b[0mtype\u001b[0m\u001b[0;34m(\u001b[0m\u001b[0mleft\u001b[0m\u001b[0;34m)\u001b[0m\u001b[0;34m(\u001b[0m\u001b[0mbm\u001b[0m\u001b[0;34m)\u001b[0m\u001b[0;34m\u001b[0m\u001b[0;34m\u001b[0m\u001b[0m\n\u001b[1;32m    267\u001b[0m \u001b[0;34m\u001b[0m\u001b[0m\n",
            "\u001b[0;32m/usr/local/lib/python3.7/dist-packages/pandas/core/internals/managers.py\u001b[0m in \u001b[0;36mapply\u001b[0;34m(self, f, align_keys, **kwargs)\u001b[0m\n\u001b[1;32m    405\u001b[0m \u001b[0;34m\u001b[0m\u001b[0m\n\u001b[1;32m    406\u001b[0m             \u001b[0;32mif\u001b[0m \u001b[0mcallable\u001b[0m\u001b[0;34m(\u001b[0m\u001b[0mf\u001b[0m\u001b[0;34m)\u001b[0m\u001b[0;34m:\u001b[0m\u001b[0;34m\u001b[0m\u001b[0;34m\u001b[0m\u001b[0m\n\u001b[0;32m--> 407\u001b[0;31m                 \u001b[0mapplied\u001b[0m \u001b[0;34m=\u001b[0m \u001b[0mb\u001b[0m\u001b[0;34m.\u001b[0m\u001b[0mapply\u001b[0m\u001b[0;34m(\u001b[0m\u001b[0mf\u001b[0m\u001b[0;34m,\u001b[0m \u001b[0;34m**\u001b[0m\u001b[0mkwargs\u001b[0m\u001b[0;34m)\u001b[0m\u001b[0;34m\u001b[0m\u001b[0;34m\u001b[0m\u001b[0m\n\u001b[0m\u001b[1;32m    408\u001b[0m             \u001b[0;32melse\u001b[0m\u001b[0;34m:\u001b[0m\u001b[0;34m\u001b[0m\u001b[0;34m\u001b[0m\u001b[0m\n\u001b[1;32m    409\u001b[0m                 \u001b[0mapplied\u001b[0m \u001b[0;34m=\u001b[0m \u001b[0mgetattr\u001b[0m\u001b[0;34m(\u001b[0m\u001b[0mb\u001b[0m\u001b[0;34m,\u001b[0m \u001b[0mf\u001b[0m\u001b[0;34m)\u001b[0m\u001b[0;34m(\u001b[0m\u001b[0;34m**\u001b[0m\u001b[0mkwargs\u001b[0m\u001b[0;34m)\u001b[0m\u001b[0;34m\u001b[0m\u001b[0;34m\u001b[0m\u001b[0m\n",
            "\u001b[0;32m/usr/local/lib/python3.7/dist-packages/pandas/core/internals/blocks.py\u001b[0m in \u001b[0;36mapply\u001b[0;34m(self, func, **kwargs)\u001b[0m\n\u001b[1;32m    344\u001b[0m         \"\"\"\n\u001b[1;32m    345\u001b[0m         \u001b[0;32mwith\u001b[0m \u001b[0mnp\u001b[0m\u001b[0;34m.\u001b[0m\u001b[0merrstate\u001b[0m\u001b[0;34m(\u001b[0m\u001b[0mall\u001b[0m\u001b[0;34m=\u001b[0m\u001b[0;34m\"ignore\"\u001b[0m\u001b[0;34m)\u001b[0m\u001b[0;34m:\u001b[0m\u001b[0;34m\u001b[0m\u001b[0;34m\u001b[0m\u001b[0m\n\u001b[0;32m--> 346\u001b[0;31m             \u001b[0mresult\u001b[0m \u001b[0;34m=\u001b[0m \u001b[0mfunc\u001b[0m\u001b[0;34m(\u001b[0m\u001b[0mself\u001b[0m\u001b[0;34m.\u001b[0m\u001b[0mvalues\u001b[0m\u001b[0;34m,\u001b[0m \u001b[0;34m**\u001b[0m\u001b[0mkwargs\u001b[0m\u001b[0;34m)\u001b[0m\u001b[0;34m\u001b[0m\u001b[0;34m\u001b[0m\u001b[0m\n\u001b[0m\u001b[1;32m    347\u001b[0m \u001b[0;34m\u001b[0m\u001b[0m\n\u001b[1;32m    348\u001b[0m         \u001b[0;32mreturn\u001b[0m \u001b[0mself\u001b[0m\u001b[0;34m.\u001b[0m\u001b[0m_split_op_result\u001b[0m\u001b[0;34m(\u001b[0m\u001b[0mresult\u001b[0m\u001b[0;34m)\u001b[0m\u001b[0;34m\u001b[0m\u001b[0;34m\u001b[0m\u001b[0m\n",
            "\u001b[0;32m/usr/local/lib/python3.7/dist-packages/pandas/core/ops/array_ops.py\u001b[0m in \u001b[0;36mcomparison_op\u001b[0;34m(left, right, op)\u001b[0m\n\u001b[1;32m    228\u001b[0m     \u001b[0;32mif\u001b[0m \u001b[0mshould_extension_dispatch\u001b[0m\u001b[0;34m(\u001b[0m\u001b[0mlvalues\u001b[0m\u001b[0;34m,\u001b[0m \u001b[0mrvalues\u001b[0m\u001b[0;34m)\u001b[0m\u001b[0;34m:\u001b[0m\u001b[0;34m\u001b[0m\u001b[0;34m\u001b[0m\u001b[0m\n\u001b[1;32m    229\u001b[0m         \u001b[0;31m# Call the method on lvalues\u001b[0m\u001b[0;34m\u001b[0m\u001b[0;34m\u001b[0m\u001b[0;34m\u001b[0m\u001b[0m\n\u001b[0;32m--> 230\u001b[0;31m         \u001b[0mres_values\u001b[0m \u001b[0;34m=\u001b[0m \u001b[0mop\u001b[0m\u001b[0;34m(\u001b[0m\u001b[0mlvalues\u001b[0m\u001b[0;34m,\u001b[0m \u001b[0mrvalues\u001b[0m\u001b[0;34m)\u001b[0m\u001b[0;34m\u001b[0m\u001b[0;34m\u001b[0m\u001b[0m\n\u001b[0m\u001b[1;32m    231\u001b[0m \u001b[0;34m\u001b[0m\u001b[0m\n\u001b[1;32m    232\u001b[0m     \u001b[0;32melif\u001b[0m \u001b[0mis_scalar\u001b[0m\u001b[0;34m(\u001b[0m\u001b[0mrvalues\u001b[0m\u001b[0;34m)\u001b[0m \u001b[0;32mand\u001b[0m \u001b[0misna\u001b[0m\u001b[0;34m(\u001b[0m\u001b[0mrvalues\u001b[0m\u001b[0;34m)\u001b[0m\u001b[0;34m:\u001b[0m\u001b[0;34m\u001b[0m\u001b[0;34m\u001b[0m\u001b[0m\n",
            "\u001b[0;32m/usr/local/lib/python3.7/dist-packages/pandas/core/ops/common.py\u001b[0m in \u001b[0;36mnew_method\u001b[0;34m(self, other)\u001b[0m\n\u001b[1;32m     63\u001b[0m         \u001b[0mother\u001b[0m \u001b[0;34m=\u001b[0m \u001b[0mitem_from_zerodim\u001b[0m\u001b[0;34m(\u001b[0m\u001b[0mother\u001b[0m\u001b[0;34m)\u001b[0m\u001b[0;34m\u001b[0m\u001b[0;34m\u001b[0m\u001b[0m\n\u001b[1;32m     64\u001b[0m \u001b[0;34m\u001b[0m\u001b[0m\n\u001b[0;32m---> 65\u001b[0;31m         \u001b[0;32mreturn\u001b[0m \u001b[0mmethod\u001b[0m\u001b[0;34m(\u001b[0m\u001b[0mself\u001b[0m\u001b[0;34m,\u001b[0m \u001b[0mother\u001b[0m\u001b[0;34m)\u001b[0m\u001b[0;34m\u001b[0m\u001b[0;34m\u001b[0m\u001b[0m\n\u001b[0m\u001b[1;32m     66\u001b[0m \u001b[0;34m\u001b[0m\u001b[0m\n\u001b[1;32m     67\u001b[0m     \u001b[0;32mreturn\u001b[0m \u001b[0mnew_method\u001b[0m\u001b[0;34m\u001b[0m\u001b[0;34m\u001b[0m\u001b[0m\n",
            "\u001b[0;32m/usr/local/lib/python3.7/dist-packages/pandas/core/arrays/categorical.py\u001b[0m in \u001b[0;36mfunc\u001b[0;34m(self, other)\u001b[0m\n\u001b[1;32m     75\u001b[0m             \u001b[0;32mif\u001b[0m \u001b[0mopname\u001b[0m \u001b[0;32min\u001b[0m \u001b[0;34m[\u001b[0m\u001b[0;34m\"__lt__\"\u001b[0m\u001b[0;34m,\u001b[0m \u001b[0;34m\"__gt__\"\u001b[0m\u001b[0;34m,\u001b[0m \u001b[0;34m\"__le__\"\u001b[0m\u001b[0;34m,\u001b[0m \u001b[0;34m\"__ge__\"\u001b[0m\u001b[0;34m]\u001b[0m\u001b[0;34m:\u001b[0m\u001b[0;34m\u001b[0m\u001b[0;34m\u001b[0m\u001b[0m\n\u001b[1;32m     76\u001b[0m                 raise TypeError(\n\u001b[0;32m---> 77\u001b[0;31m                     \u001b[0;34m\"Unordered Categoricals can only compare equality or not\"\u001b[0m\u001b[0;34m\u001b[0m\u001b[0;34m\u001b[0m\u001b[0m\n\u001b[0m\u001b[1;32m     78\u001b[0m                 )\n\u001b[1;32m     79\u001b[0m         \u001b[0;32mif\u001b[0m \u001b[0misinstance\u001b[0m\u001b[0;34m(\u001b[0m\u001b[0mother\u001b[0m\u001b[0;34m,\u001b[0m \u001b[0mCategorical\u001b[0m\u001b[0;34m)\u001b[0m\u001b[0;34m:\u001b[0m\u001b[0;34m\u001b[0m\u001b[0;34m\u001b[0m\u001b[0m\n",
            "\u001b[0;31mTypeError\u001b[0m: Unordered Categoricals can only compare equality or not"
          ]
        }
      ]
    },
    {
      "cell_type": "markdown",
      "metadata": {
        "id": "wOm_zWbzmU_n"
      },
      "source": [
        ">2.6. What are the average delivery times for each mode of shipment? Take the average over the total number of items ordered (not over the total number of orders)."
      ]
    },
    {
      "cell_type": "code",
      "metadata": {
        "id": "AnueJAYAmq-K"
      },
      "source": [
        "# YOUR CODE HERE\n"
      ],
      "execution_count": null,
      "outputs": []
    },
    {
      "cell_type": "markdown",
      "metadata": {
        "id": "N9E6QMd-rUwn"
      },
      "source": [
        ">2.7. Create a new column containing the year each order was placed (using Order Date). The plot the number of unique customers per year in a horizontal bar chart."
      ]
    },
    {
      "cell_type": "code",
      "metadata": {
        "id": "OKcMYezGqd-m"
      },
      "source": [
        "# YOUR CODE HERE\n"
      ],
      "execution_count": null,
      "outputs": []
    },
    {
      "cell_type": "markdown",
      "metadata": {
        "id": "7VrpFnfA5g14"
      },
      "source": [
        ">2.8. Churn in 2018 as compared to 2017. Were there any customers in 2017 that the store lost in 2018? If so, how many?"
      ]
    },
    {
      "cell_type": "code",
      "metadata": {
        "id": "nufM8bG-5le9"
      },
      "source": [
        "# YOUR CODE HERE\n"
      ],
      "execution_count": null,
      "outputs": []
    },
    {
      "cell_type": "markdown",
      "metadata": {
        "id": "k_MA0nCqmWk7"
      },
      "source": [
        ">2.9. Generate a table with the average sales by customer segment and by year (take the simple average over the number of items sold). Plot in a line chart the average sales by customer segement over time, with the years on x-axis, the average sales on the y-axis, and a line for each segment."
      ]
    },
    {
      "cell_type": "code",
      "metadata": {
        "id": "xti_5tRwgITF"
      },
      "source": [
        "# YOUR CODE HERE\n"
      ],
      "execution_count": null,
      "outputs": []
    },
    {
      "cell_type": "markdown",
      "metadata": {
        "id": "HlMfHtssI7d8"
      },
      "source": [
        ">2.10. Using `folium`, plot on a map the location of a subset of customers defined below, using circle markers proportionate to the value of their aggregate purchases.\n",
        ">\n",
        "> Only include 2018 data for corporate customers with per item purchases above USD 100. \n",
        ">\n",
        ">A separate database with latitude and longitude measures for US zip codes is provided below. Merge the latitude and longitude with your transactions dataset. Make sure to drop any missing values before plotting your map."
      ]
    },
    {
      "cell_type": "code",
      "metadata": {
        "id": "jgl8TDOTNffd"
      },
      "source": [
        "# import required packages\n",
        "import folium"
      ],
      "execution_count": null,
      "outputs": []
    },
    {
      "cell_type": "code",
      "metadata": {
        "id": "zK_CETAiNmKD"
      },
      "source": [
        "# import latitude and longitude data\n",
        "latlong=pd.read_csv('https://gist.githubusercontent.com/erichurst/7882666/raw/5bdc46db47d9515269ab12ed6fb2850377fd869e/US%2520Zip%2520Codes%2520from%25202013%2520Government%2520Data', \n",
        "                    dtype={'ZIP': 'str'})\n",
        "latlong.head()"
      ],
      "execution_count": null,
      "outputs": []
    },
    {
      "cell_type": "code",
      "metadata": {
        "id": "wckhNfH0QcC6"
      },
      "source": [
        "# YOUR CODE HERE FOR SELECTING THE SUBSET\n"
      ],
      "execution_count": null,
      "outputs": []
    },
    {
      "cell_type": "code",
      "metadata": {
        "id": "k2xJfDJwOxTN"
      },
      "source": [
        "# YOUR CODE HERE FOR MERGING THE SUBSET WITH THE LATITUDE AND LONGITUDE DATA\n"
      ],
      "execution_count": null,
      "outputs": []
    },
    {
      "cell_type": "code",
      "metadata": {
        "id": "iLie4FgVPrgu"
      },
      "source": [
        "# YOUR CODE HERE FOR GENERATING THE MAP\n"
      ],
      "execution_count": null,
      "outputs": []
    },
    {
      "cell_type": "markdown",
      "metadata": {
        "id": "t-0sesaUf_RL"
      },
      "source": [
        "## 3. Regression Analysis"
      ]
    },
    {
      "cell_type": "markdown",
      "metadata": {
        "id": "FFibkCBasHtX"
      },
      "source": [
        "For this section please work on data aggregated by daily sales in USD. Here we are providing the dataframe for you. The regression dataset contains observations on sales aggregated by day, including:\n",
        "* the date of the orders\n",
        "* the number of orders received on that day\n",
        "* the number of items ordered on that day\n",
        "* the number of customer segments represented in the orders for that day\n",
        "* the number of product sub-categories included\n",
        "* the aggregated value of daily sales in USD\n",
        "* the year, the month, and the day of the transactions stored separately."
      ]
    },
    {
      "cell_type": "markdown",
      "metadata": {
        "id": "C7DWGp1QRJWF"
      },
      "source": [
        ">Load the data."
      ]
    },
    {
      "cell_type": "code",
      "metadata": {
        "id": "SJ6VGI7_B9dY",
        "colab": {
          "base_uri": "https://localhost:8080/",
          "height": 204
        },
        "outputId": "fd290d97-f79a-4726-ce80-283a87d25fa1"
      },
      "source": [
        "#Upload the data\n",
        "new_data=pd.read_csv('https://raw.githubusercontent.com/michalis0/DataMining_and_MachineLearning/master/data/regression_sales.csv')\n",
        "new_data.head(5)"
      ],
      "execution_count": 10,
      "outputs": [
        {
          "output_type": "execute_result",
          "data": {
            "text/html": [
              "<div>\n",
              "<style scoped>\n",
              "    .dataframe tbody tr th:only-of-type {\n",
              "        vertical-align: middle;\n",
              "    }\n",
              "\n",
              "    .dataframe tbody tr th {\n",
              "        vertical-align: top;\n",
              "    }\n",
              "\n",
              "    .dataframe thead th {\n",
              "        text-align: right;\n",
              "    }\n",
              "</style>\n",
              "<table border=\"1\" class=\"dataframe\">\n",
              "  <thead>\n",
              "    <tr style=\"text-align: right;\">\n",
              "      <th></th>\n",
              "      <th>Order Date</th>\n",
              "      <th>number_orders</th>\n",
              "      <th>number_items</th>\n",
              "      <th>number_segments</th>\n",
              "      <th>number_subcategory</th>\n",
              "      <th>sales_per_day</th>\n",
              "      <th>year</th>\n",
              "      <th>month</th>\n",
              "      <th>day</th>\n",
              "      <th>log_sales</th>\n",
              "    </tr>\n",
              "  </thead>\n",
              "  <tbody>\n",
              "    <tr>\n",
              "      <th>0</th>\n",
              "      <td>03/01/2015</td>\n",
              "      <td>1</td>\n",
              "      <td>1</td>\n",
              "      <td>1</td>\n",
              "      <td>1</td>\n",
              "      <td>16.448</td>\n",
              "      <td>2015</td>\n",
              "      <td>1</td>\n",
              "      <td>3</td>\n",
              "      <td>2.800204</td>\n",
              "    </tr>\n",
              "    <tr>\n",
              "      <th>1</th>\n",
              "      <td>04/01/2015</td>\n",
              "      <td>1</td>\n",
              "      <td>3</td>\n",
              "      <td>1</td>\n",
              "      <td>3</td>\n",
              "      <td>288.060</td>\n",
              "      <td>2015</td>\n",
              "      <td>1</td>\n",
              "      <td>4</td>\n",
              "      <td>5.663169</td>\n",
              "    </tr>\n",
              "    <tr>\n",
              "      <th>2</th>\n",
              "      <td>05/01/2015</td>\n",
              "      <td>1</td>\n",
              "      <td>1</td>\n",
              "      <td>1</td>\n",
              "      <td>1</td>\n",
              "      <td>19.536</td>\n",
              "      <td>2015</td>\n",
              "      <td>1</td>\n",
              "      <td>5</td>\n",
              "      <td>2.972259</td>\n",
              "    </tr>\n",
              "    <tr>\n",
              "      <th>3</th>\n",
              "      <td>06/01/2015</td>\n",
              "      <td>3</td>\n",
              "      <td>9</td>\n",
              "      <td>3</td>\n",
              "      <td>6</td>\n",
              "      <td>4407.100</td>\n",
              "      <td>2015</td>\n",
              "      <td>1</td>\n",
              "      <td>6</td>\n",
              "      <td>8.390972</td>\n",
              "    </tr>\n",
              "    <tr>\n",
              "      <th>4</th>\n",
              "      <td>07/01/2015</td>\n",
              "      <td>1</td>\n",
              "      <td>2</td>\n",
              "      <td>1</td>\n",
              "      <td>2</td>\n",
              "      <td>87.158</td>\n",
              "      <td>2015</td>\n",
              "      <td>1</td>\n",
              "      <td>7</td>\n",
              "      <td>4.467723</td>\n",
              "    </tr>\n",
              "  </tbody>\n",
              "</table>\n",
              "</div>"
            ],
            "text/plain": [
              "   Order Date  number_orders  number_items  ...  month  day  log_sales\n",
              "0  03/01/2015              1             1  ...      1    3   2.800204\n",
              "1  04/01/2015              1             3  ...      1    4   5.663169\n",
              "2  05/01/2015              1             1  ...      1    5   2.972259\n",
              "3  06/01/2015              3             9  ...      1    6   8.390972\n",
              "4  07/01/2015              1             2  ...      1    7   4.467723\n",
              "\n",
              "[5 rows x 10 columns]"
            ]
          },
          "metadata": {},
          "execution_count": 10
        }
      ]
    },
    {
      "cell_type": "code",
      "metadata": {
        "colab": {
          "base_uri": "https://localhost:8080/",
          "height": 204
        },
        "id": "njQ_ofRp2Ppb",
        "outputId": "45e39d18-eca3-4be9-c698-dc80d9f48850"
      },
      "source": [
        "new_data.tail(5)"
      ],
      "execution_count": 614,
      "outputs": [
        {
          "output_type": "execute_result",
          "data": {
            "text/html": [
              "<div>\n",
              "<style scoped>\n",
              "    .dataframe tbody tr th:only-of-type {\n",
              "        vertical-align: middle;\n",
              "    }\n",
              "\n",
              "    .dataframe tbody tr th {\n",
              "        vertical-align: top;\n",
              "    }\n",
              "\n",
              "    .dataframe thead th {\n",
              "        text-align: right;\n",
              "    }\n",
              "</style>\n",
              "<table border=\"1\" class=\"dataframe\">\n",
              "  <thead>\n",
              "    <tr style=\"text-align: right;\">\n",
              "      <th></th>\n",
              "      <th>Order Date</th>\n",
              "      <th>number_orders</th>\n",
              "      <th>number_items</th>\n",
              "      <th>number_segments</th>\n",
              "      <th>number_subcategory</th>\n",
              "      <th>sales_per_day</th>\n",
              "      <th>year</th>\n",
              "      <th>month</th>\n",
              "      <th>day</th>\n",
              "      <th>log_sales</th>\n",
              "    </tr>\n",
              "  </thead>\n",
              "  <tbody>\n",
              "    <tr>\n",
              "      <th>1224</th>\n",
              "      <td>26/12/2018</td>\n",
              "      <td>4</td>\n",
              "      <td>4</td>\n",
              "      <td>3</td>\n",
              "      <td>3</td>\n",
              "      <td>814.5940</td>\n",
              "      <td>2018</td>\n",
              "      <td>12</td>\n",
              "      <td>26</td>\n",
              "      <td>6.702690</td>\n",
              "    </tr>\n",
              "    <tr>\n",
              "      <th>1225</th>\n",
              "      <td>27/12/2018</td>\n",
              "      <td>1</td>\n",
              "      <td>2</td>\n",
              "      <td>1</td>\n",
              "      <td>2</td>\n",
              "      <td>177.6360</td>\n",
              "      <td>2018</td>\n",
              "      <td>12</td>\n",
              "      <td>27</td>\n",
              "      <td>5.179737</td>\n",
              "    </tr>\n",
              "    <tr>\n",
              "      <th>1226</th>\n",
              "      <td>28/12/2018</td>\n",
              "      <td>10</td>\n",
              "      <td>19</td>\n",
              "      <td>3</td>\n",
              "      <td>10</td>\n",
              "      <td>1657.3508</td>\n",
              "      <td>2018</td>\n",
              "      <td>12</td>\n",
              "      <td>28</td>\n",
              "      <td>7.412976</td>\n",
              "    </tr>\n",
              "    <tr>\n",
              "      <th>1227</th>\n",
              "      <td>29/12/2018</td>\n",
              "      <td>6</td>\n",
              "      <td>12</td>\n",
              "      <td>2</td>\n",
              "      <td>7</td>\n",
              "      <td>2915.5340</td>\n",
              "      <td>2018</td>\n",
              "      <td>12</td>\n",
              "      <td>29</td>\n",
              "      <td>7.977808</td>\n",
              "    </tr>\n",
              "    <tr>\n",
              "      <th>1228</th>\n",
              "      <td>30/12/2018</td>\n",
              "      <td>4</td>\n",
              "      <td>7</td>\n",
              "      <td>3</td>\n",
              "      <td>5</td>\n",
              "      <td>713.7900</td>\n",
              "      <td>2018</td>\n",
              "      <td>12</td>\n",
              "      <td>30</td>\n",
              "      <td>6.570589</td>\n",
              "    </tr>\n",
              "  </tbody>\n",
              "</table>\n",
              "</div>"
            ],
            "text/plain": [
              "      Order Date  number_orders  number_items  ...  month  day  log_sales\n",
              "1224  26/12/2018              4             4  ...     12   26   6.702690\n",
              "1225  27/12/2018              1             2  ...     12   27   5.179737\n",
              "1226  28/12/2018             10            19  ...     12   28   7.412976\n",
              "1227  29/12/2018              6            12  ...     12   29   7.977808\n",
              "1228  30/12/2018              4             7  ...     12   30   6.570589\n",
              "\n",
              "[5 rows x 10 columns]"
            ]
          },
          "metadata": {},
          "execution_count": 614
        }
      ]
    },
    {
      "cell_type": "markdown",
      "metadata": {
        "id": "Uo47uxUJS9S0"
      },
      "source": [
        ">3.1.1. Generate descriptive statistics"
      ]
    },
    {
      "cell_type": "code",
      "metadata": {
        "id": "V4yFDfS_SoHz",
        "colab": {
          "base_uri": "https://localhost:8080/"
        },
        "outputId": "b0c51df1-16f6-4a43-c3db-a4136e9f45a3"
      },
      "source": [
        "# YOUR CODE HERE\n",
        "new_data.info()"
      ],
      "execution_count": 615,
      "outputs": [
        {
          "output_type": "stream",
          "name": "stdout",
          "text": [
            "<class 'pandas.core.frame.DataFrame'>\n",
            "RangeIndex: 1229 entries, 0 to 1228\n",
            "Data columns (total 10 columns):\n",
            " #   Column              Non-Null Count  Dtype  \n",
            "---  ------              --------------  -----  \n",
            " 0   Order Date          1229 non-null   object \n",
            " 1   number_orders       1229 non-null   int64  \n",
            " 2   number_items        1229 non-null   int64  \n",
            " 3   number_segments     1229 non-null   int64  \n",
            " 4   number_subcategory  1229 non-null   int64  \n",
            " 5   sales_per_day       1229 non-null   float64\n",
            " 6   year                1229 non-null   int64  \n",
            " 7   month               1229 non-null   int64  \n",
            " 8   day                 1229 non-null   int64  \n",
            " 9   log_sales           1229 non-null   float64\n",
            "dtypes: float64(2), int64(7), object(1)\n",
            "memory usage: 96.1+ KB\n"
          ]
        }
      ]
    },
    {
      "cell_type": "code",
      "metadata": {
        "colab": {
          "base_uri": "https://localhost:8080/",
          "height": 297
        },
        "id": "ViNUw_f9gtpS",
        "outputId": "76c4dcb2-16c3-4d96-bda6-fd247b97a258"
      },
      "source": [
        "new_data.describe()"
      ],
      "execution_count": 616,
      "outputs": [
        {
          "output_type": "execute_result",
          "data": {
            "text/html": [
              "<div>\n",
              "<style scoped>\n",
              "    .dataframe tbody tr th:only-of-type {\n",
              "        vertical-align: middle;\n",
              "    }\n",
              "\n",
              "    .dataframe tbody tr th {\n",
              "        vertical-align: top;\n",
              "    }\n",
              "\n",
              "    .dataframe thead th {\n",
              "        text-align: right;\n",
              "    }\n",
              "</style>\n",
              "<table border=\"1\" class=\"dataframe\">\n",
              "  <thead>\n",
              "    <tr style=\"text-align: right;\">\n",
              "      <th></th>\n",
              "      <th>number_orders</th>\n",
              "      <th>number_items</th>\n",
              "      <th>number_segments</th>\n",
              "      <th>number_subcategory</th>\n",
              "      <th>sales_per_day</th>\n",
              "      <th>year</th>\n",
              "      <th>month</th>\n",
              "      <th>day</th>\n",
              "      <th>log_sales</th>\n",
              "    </tr>\n",
              "  </thead>\n",
              "  <tbody>\n",
              "    <tr>\n",
              "      <th>count</th>\n",
              "      <td>1229.000000</td>\n",
              "      <td>1229.000000</td>\n",
              "      <td>1229.000000</td>\n",
              "      <td>1229.000000</td>\n",
              "      <td>1229.000000</td>\n",
              "      <td>1229.000000</td>\n",
              "      <td>1229.000000</td>\n",
              "      <td>1229.000000</td>\n",
              "      <td>1229.000000</td>\n",
              "    </tr>\n",
              "    <tr>\n",
              "      <th>mean</th>\n",
              "      <td>4.000000</td>\n",
              "      <td>7.965012</td>\n",
              "      <td>2.004068</td>\n",
              "      <td>5.266884</td>\n",
              "      <td>1832.878285</td>\n",
              "      <td>2016.536208</td>\n",
              "      <td>6.787632</td>\n",
              "      <td>15.794142</td>\n",
              "      <td>6.714374</td>\n",
              "    </tr>\n",
              "    <tr>\n",
              "      <th>std</th>\n",
              "      <td>2.799197</td>\n",
              "      <td>6.152745</td>\n",
              "      <td>0.770475</td>\n",
              "      <td>3.016305</td>\n",
              "      <td>2283.923773</td>\n",
              "      <td>1.124801</td>\n",
              "      <td>3.410032</td>\n",
              "      <td>8.781964</td>\n",
              "      <td>1.525230</td>\n",
              "    </tr>\n",
              "    <tr>\n",
              "      <th>min</th>\n",
              "      <td>1.000000</td>\n",
              "      <td>1.000000</td>\n",
              "      <td>1.000000</td>\n",
              "      <td>1.000000</td>\n",
              "      <td>2.025000</td>\n",
              "      <td>2015.000000</td>\n",
              "      <td>1.000000</td>\n",
              "      <td>1.000000</td>\n",
              "      <td>0.705570</td>\n",
              "    </tr>\n",
              "    <tr>\n",
              "      <th>25%</th>\n",
              "      <td>2.000000</td>\n",
              "      <td>3.000000</td>\n",
              "      <td>1.000000</td>\n",
              "      <td>3.000000</td>\n",
              "      <td>377.736000</td>\n",
              "      <td>2016.000000</td>\n",
              "      <td>4.000000</td>\n",
              "      <td>8.000000</td>\n",
              "      <td>5.934196</td>\n",
              "    </tr>\n",
              "    <tr>\n",
              "      <th>50%</th>\n",
              "      <td>3.000000</td>\n",
              "      <td>6.000000</td>\n",
              "      <td>2.000000</td>\n",
              "      <td>5.000000</td>\n",
              "      <td>1053.614000</td>\n",
              "      <td>2017.000000</td>\n",
              "      <td>7.000000</td>\n",
              "      <td>16.000000</td>\n",
              "      <td>6.959981</td>\n",
              "    </tr>\n",
              "    <tr>\n",
              "      <th>75%</th>\n",
              "      <td>5.000000</td>\n",
              "      <td>11.000000</td>\n",
              "      <td>3.000000</td>\n",
              "      <td>7.000000</td>\n",
              "      <td>2379.994000</td>\n",
              "      <td>2018.000000</td>\n",
              "      <td>10.000000</td>\n",
              "      <td>23.000000</td>\n",
              "      <td>7.774853</td>\n",
              "    </tr>\n",
              "    <tr>\n",
              "      <th>max</th>\n",
              "      <td>19.000000</td>\n",
              "      <td>38.000000</td>\n",
              "      <td>3.000000</td>\n",
              "      <td>14.000000</td>\n",
              "      <td>28106.716000</td>\n",
              "      <td>2018.000000</td>\n",
              "      <td>12.000000</td>\n",
              "      <td>31.000000</td>\n",
              "      <td>10.243764</td>\n",
              "    </tr>\n",
              "  </tbody>\n",
              "</table>\n",
              "</div>"
            ],
            "text/plain": [
              "       number_orders  number_items  ...          day    log_sales\n",
              "count    1229.000000   1229.000000  ...  1229.000000  1229.000000\n",
              "mean        4.000000      7.965012  ...    15.794142     6.714374\n",
              "std         2.799197      6.152745  ...     8.781964     1.525230\n",
              "min         1.000000      1.000000  ...     1.000000     0.705570\n",
              "25%         2.000000      3.000000  ...     8.000000     5.934196\n",
              "50%         3.000000      6.000000  ...    16.000000     6.959981\n",
              "75%         5.000000     11.000000  ...    23.000000     7.774853\n",
              "max        19.000000     38.000000  ...    31.000000    10.243764\n",
              "\n",
              "[8 rows x 9 columns]"
            ]
          },
          "metadata": {},
          "execution_count": 616
        }
      ]
    },
    {
      "cell_type": "markdown",
      "metadata": {
        "id": "UH-b8Rg8lcqA"
      },
      "source": [
        ">3.1.2. Plot the distribution of sales per day, using bins=50. Then create a new column equal to the natural logarithm of sales per day and plot its histogram as well."
      ]
    },
    {
      "cell_type": "code",
      "metadata": {
        "id": "0DNwPUQKlAxv",
        "colab": {
          "base_uri": "https://localhost:8080/",
          "height": 358
        },
        "outputId": "254bf030-8008-4062-e06f-1d95231f0f70"
      },
      "source": [
        "# YOUR CODE HERE\n",
        "new_data['sales_per_day'].plot(kind='hist', bins=50, figsize=(15,5), title='Distribution of sales per day', legend=True, grid=False, fontsize=15, range=(0,15000))"
      ],
      "execution_count": 617,
      "outputs": [
        {
          "output_type": "execute_result",
          "data": {
            "text/plain": [
              "<matplotlib.axes._subplots.AxesSubplot at 0x7f37daa1a610>"
            ]
          },
          "metadata": {},
          "execution_count": 617
        },
        {
          "output_type": "display_data",
          "data": {
            "image/png": "[encoded data removed]",
            "text/plain": [
              "<Figure size 1080x360 with 1 Axes>"
            ]
          },
          "metadata": {}
        }
      ]
    },
    {
      "cell_type": "code",
      "metadata": {
        "colab": {
          "base_uri": "https://localhost:8080/",
          "height": 358
        },
        "id": "L31UYqzUjGrb",
        "outputId": "dc482230-1740-47ca-c67b-9adedaecb09a"
      },
      "source": [
        "new_data['log_sales'].plot(kind='hist', bins=50, figsize=(15,5), title='Distribution of natural log of sales per day', legend=True, grid=False, fontsize=15, color='green')"
      ],
      "execution_count": 618,
      "outputs": [
        {
          "output_type": "execute_result",
          "data": {
            "text/plain": [
              "<matplotlib.axes._subplots.AxesSubplot at 0x7f37da822090>"
            ]
          },
          "metadata": {},
          "execution_count": 618
        },
        {
          "output_type": "display_data",
          "data": {
            "image/png": "[encoded data removed]",
            "text/plain": [
              "<Figure size 1080x360 with 1 Axes>"
            ]
          },
          "metadata": {}
        }
      ]
    },
    {
      "cell_type": "markdown",
      "metadata": {
        "id": "rxaRIn6dPaJB"
      },
      "source": [
        ">3.1.3. Create a pairplot with the log of sales per day on the horizontal axis and on the vertical axis the number of items ordered and number of orders."
      ]
    },
    {
      "cell_type": "code",
      "metadata": {
        "id": "DRlpC5RKjhWD"
      },
      "source": [
        "# YOUR CODE HERE\n"
      ],
      "execution_count": null,
      "outputs": []
    },
    {
      "cell_type": "markdown",
      "metadata": {
        "id": "82bShao5Fznv"
      },
      "source": [
        "## Simple Linear Regression"
      ]
    },
    {
      "cell_type": "markdown",
      "metadata": {
        "id": "9ggDe8YUV2Q1"
      },
      "source": [
        ">3.2 Regress log of sales on number of orders, number of items, number of segments, year, month and day.\n",
        ">\n",
        ">3.2.1. Select the dependent (y) and the independent variables (X)."
      ]
    },
    {
      "cell_type": "code",
      "metadata": {
        "id": "raGHDpTGABHR",
        "colab": {
          "base_uri": "https://localhost:8080/"
        },
        "outputId": "489f5d7b-63cc-414d-d720-a654e427fab0"
      },
      "source": [
        "# YOUR CODE HERE\n",
        "import sklearn\n",
        "from sklearn.model_selection import train_test_split\n",
        "y = (new_data['log_sales'])\n",
        "X = (new_data[['number_orders', 'number_items', 'number_segments', 'year', 'month', 'day']])\n",
        "y.shape, X.shape"
      ],
      "execution_count": 11,
      "outputs": [
        {
          "output_type": "execute_result",
          "data": {
            "text/plain": [
              "((1229,), (1229, 6))"
            ]
          },
          "metadata": {},
          "execution_count": 11
        }
      ]
    },
    {
      "cell_type": "markdown",
      "metadata": {
        "id": "G6539viLWhTb"
      },
      "source": [
        ">3.2.2 Split your dataset into a training set (80%) and a test set (20%). Use sklearn.model_selection.train_test_split() and set the **random_state to 77.**"
      ]
    },
    {
      "cell_type": "code",
      "metadata": {
        "id": "GjpqtBa_CFmo"
      },
      "source": [
        "# YOUR CODE HERE\n",
        "X_train, X_test, y_train, y_test = train_test_split(X,y, test_size = 0.2, random_state = 77)"
      ],
      "execution_count": 12,
      "outputs": []
    },
    {
      "cell_type": "code",
      "metadata": {
        "colab": {
          "base_uri": "https://localhost:8080/",
          "height": 204
        },
        "id": "hPNXZMbTVRKZ",
        "outputId": "6497dfa6-8a9d-46b8-8092-999356ac1b00"
      },
      "source": [
        "X_train.head()"
      ],
      "execution_count": 13,
      "outputs": [
        {
          "output_type": "execute_result",
          "data": {
            "text/html": [
              "<div>\n",
              "<style scoped>\n",
              "    .dataframe tbody tr th:only-of-type {\n",
              "        vertical-align: middle;\n",
              "    }\n",
              "\n",
              "    .dataframe tbody tr th {\n",
              "        vertical-align: top;\n",
              "    }\n",
              "\n",
              "    .dataframe thead th {\n",
              "        text-align: right;\n",
              "    }\n",
              "</style>\n",
              "<table border=\"1\" class=\"dataframe\">\n",
              "  <thead>\n",
              "    <tr style=\"text-align: right;\">\n",
              "      <th></th>\n",
              "      <th>number_orders</th>\n",
              "      <th>number_items</th>\n",
              "      <th>number_segments</th>\n",
              "      <th>year</th>\n",
              "      <th>month</th>\n",
              "      <th>day</th>\n",
              "    </tr>\n",
              "  </thead>\n",
              "  <tbody>\n",
              "    <tr>\n",
              "      <th>853</th>\n",
              "      <td>9</td>\n",
              "      <td>19</td>\n",
              "      <td>3</td>\n",
              "      <td>2017</td>\n",
              "      <td>11</td>\n",
              "      <td>5</td>\n",
              "    </tr>\n",
              "    <tr>\n",
              "      <th>590</th>\n",
              "      <td>1</td>\n",
              "      <td>2</td>\n",
              "      <td>1</td>\n",
              "      <td>2017</td>\n",
              "      <td>1</td>\n",
              "      <td>2</td>\n",
              "    </tr>\n",
              "    <tr>\n",
              "      <th>403</th>\n",
              "      <td>1</td>\n",
              "      <td>2</td>\n",
              "      <td>1</td>\n",
              "      <td>2016</td>\n",
              "      <td>5</td>\n",
              "      <td>20</td>\n",
              "    </tr>\n",
              "    <tr>\n",
              "      <th>822</th>\n",
              "      <td>2</td>\n",
              "      <td>2</td>\n",
              "      <td>1</td>\n",
              "      <td>2017</td>\n",
              "      <td>9</td>\n",
              "      <td>30</td>\n",
              "    </tr>\n",
              "    <tr>\n",
              "      <th>922</th>\n",
              "      <td>2</td>\n",
              "      <td>6</td>\n",
              "      <td>2</td>\n",
              "      <td>2018</td>\n",
              "      <td>1</td>\n",
              "      <td>22</td>\n",
              "    </tr>\n",
              "  </tbody>\n",
              "</table>\n",
              "</div>"
            ],
            "text/plain": [
              "     number_orders  number_items  number_segments  year  month  day\n",
              "853              9            19                3  2017     11    5\n",
              "590              1             2                1  2017      1    2\n",
              "403              1             2                1  2016      5   20\n",
              "822              2             2                1  2017      9   30\n",
              "922              2             6                2  2018      1   22"
            ]
          },
          "metadata": {},
          "execution_count": 13
        }
      ]
    },
    {
      "cell_type": "markdown",
      "metadata": {
        "id": "I7bUXy-BWzsZ"
      },
      "source": [
        ">3.2.3 Train a linear regression model on the training data. What is the R^2 score for the test data?"
      ]
    },
    {
      "cell_type": "code",
      "metadata": {
        "id": "RqdPe2awCJ1r",
        "colab": {
          "base_uri": "https://localhost:8080/"
        },
        "outputId": "7a4c114a-e37a-474a-9ee9-a66db8d45456"
      },
      "source": [
        "# YOUR CODE HERE\n",
        "from sklearn.linear_model import LinearRegression\n",
        "LR = LinearRegression(fit_intercept=True)\n",
        "LR.fit(X_train, y_train)"
      ],
      "execution_count": 14,
      "outputs": [
        {
          "output_type": "execute_result",
          "data": {
            "text/plain": [
              "LinearRegression(copy_X=True, fit_intercept=True, n_jobs=None, normalize=False)"
            ]
          },
          "metadata": {},
          "execution_count": 14
        }
      ]
    },
    {
      "cell_type": "code",
      "metadata": {
        "colab": {
          "base_uri": "https://localhost:8080/"
        },
        "id": "ExPxP3Aq0QqC",
        "outputId": "f8765e75-1bc0-4f94-82f9-a9ba67e4a069"
      },
      "source": [
        "print(\"params: \", LR.coef_)\n",
        "print(\"constant: \", LR.intercept_)\n",
        "print(\"R^2 score: \", LR.score(X_train, y_train))"
      ],
      "execution_count": 15,
      "outputs": [
        {
          "output_type": "stream",
          "name": "stdout",
          "text": [
            "params:  [-8.50696759e-02  1.69065368e-01  4.93390631e-01  2.61469395e-03\n",
            " -5.27419820e-03 -1.70831086e-04]\n",
            "constant:  -0.5142540595093843\n",
            "R^2 score:  0.4954836572167168\n"
          ]
        }
      ]
    },
    {
      "cell_type": "markdown",
      "metadata": {
        "id": "OMwWUxiQXMg1"
      },
      "source": [
        ">3.2.4. Predict what would be the total value of sales in USD on 15 January 2019 assuming there were 3 orders received on that day, including 9 items, from 3 segments."
      ]
    },
    {
      "cell_type": "code",
      "metadata": {
        "id": "kAJcWSR7rSpG",
        "colab": {
          "base_uri": "https://localhost:8080/"
        },
        "outputId": "36302919-ee89-484b-def2-f5f7ebc50390"
      },
      "source": [
        "# YOUR CODE HERE\n",
        "print(\"number_orders: \", 3, \"number_items: \", 9, \"number_segments: \", 3, \"year: \", 2019, \"month: \", 1, \"day: \", 15, \"log_sales: \", LR.predict(np.array([3, 9, 3, 2019, 1, 15]).reshape(-1,6)))"
      ],
      "execution_count": 16,
      "outputs": [
        {
          "output_type": "stream",
          "name": "stdout",
          "text": [
            "number_orders:  3 number_items:  9 number_segments:  3 year:  2019 month:  1 day:  15 log_sales:  [7.50352754]\n"
          ]
        }
      ]
    },
    {
      "cell_type": "code",
      "metadata": {
        "colab": {
          "base_uri": "https://localhost:8080/"
        },
        "id": "NT-pRnjdMJyl",
        "outputId": "5ac787bd-28b9-4b09-cc70-f8d6b2f2a806"
      },
      "source": [
        "np.exp(7.50352754)"
      ],
      "execution_count": 677,
      "outputs": [
        {
          "output_type": "execute_result",
          "data": {
            "text/plain": [
              "1814.4316188564414"
            ]
          },
          "metadata": {},
          "execution_count": 677
        }
      ]
    },
    {
      "cell_type": "markdown",
      "metadata": {
        "id": "LxDaG_fkgi27"
      },
      "source": [
        "## Linear Regression with Standardization"
      ]
    },
    {
      "cell_type": "markdown",
      "metadata": {
        "id": "NHdx7ZB-k1zg"
      },
      "source": [
        "> 3.2.5. Apply a standard scaler to the following columns: number_orders, number_items, number_segments. \n",
        "> \n",
        "> Hint: use the scaler on the already split data. Fit-transform the scaler on X_train and apply transform on X_test."
      ]
    },
    {
      "cell_type": "code",
      "metadata": {
        "id": "0oOsS4aXlKlJ"
      },
      "source": [
        "# YOUR CODE HERE\n",
        "import sklearn.preprocessing\n",
        "from sklearn.preprocessing import StandardScaler"
      ],
      "execution_count": 17,
      "outputs": []
    },
    {
      "cell_type": "code",
      "metadata": {
        "id": "40iliEGNZBMl"
      },
      "source": [
        "ss = StandardScaler()\n",
        "X_train = ss.fit_transform(X_train)\n",
        "X_test = ss.transform(X_test)"
      ],
      "execution_count": 18,
      "outputs": []
    },
    {
      "cell_type": "markdown",
      "metadata": {
        "id": "FP_JknHfm8Q1"
      },
      "source": [
        "> 3.2.6. Train a linear regression model with the standardised data. What is the R^2 score for the test data?"
      ]
    },
    {
      "cell_type": "code",
      "metadata": {
        "id": "YTuVpyJ3mz9l",
        "colab": {
          "base_uri": "https://localhost:8080/"
        },
        "outputId": "162f40ce-03dc-4ee4-b3b3-a709d4565172"
      },
      "source": [
        "# YOUR CODE HERE\n",
        "LR.fit(X_train, y_train)\n",
        "print(\"R^2 score: \", LR.score(X_train, y_train))"
      ],
      "execution_count": 19,
      "outputs": [
        {
          "output_type": "stream",
          "name": "stdout",
          "text": [
            "R^2 score:  0.4954836572167168\n"
          ]
        }
      ]
    },
    {
      "cell_type": "markdown",
      "metadata": {
        "id": "DLMX97zuoDUI"
      },
      "source": [
        "> 3.2.7. Predict what would be the total number of sales in USD on 15 January 2019 assuming 3 orders received on that day, including 9 items, from 3 segments"
      ]
    },
    {
      "cell_type": "code",
      "metadata": {
        "id": "GqBE6AAIoCht",
        "colab": {
          "base_uri": "https://localhost:8080/"
        },
        "outputId": "8dce9691-f436-4029-f505-97f2e50c74af"
      },
      "source": [
        "# YOUR CODE HERE\n",
        "print(\"number_orders: \", 3, \"number_items: \", 9, \"number_segments: \", 3, \"year: \", 2019, \"month: \", 1, \"day: \", 15, \"log_sales: \", LR.predict(np.array([3, 9, 3, 2019, 1, 15]).reshape(-1,6)))"
      ],
      "execution_count": 28,
      "outputs": [
        {
          "output_type": "stream",
          "name": "stdout",
          "text": [
            "number_orders:  3 number_items:  9 number_segments:  3 year:  2019 month:  1 day:  15 log_sales:  [22.13502017]\n"
          ]
        }
      ]
    },
    {
      "cell_type": "code",
      "metadata": {
        "colab": {
          "base_uri": "https://localhost:8080/"
        },
        "id": "0ehUX3VcbhOA",
        "outputId": "79baefa3-7499-44c8-8934-c90d42733a75"
      },
      "source": [
        "np.exp(22.13502017)"
      ],
      "execution_count": 687,
      "outputs": [
        {
          "output_type": "execute_result",
          "data": {
            "text/plain": [
              "4103147380.7392087"
            ]
          },
          "metadata": {},
          "execution_count": 687
        }
      ]
    },
    {
      "cell_type": "markdown",
      "metadata": {
        "id": "_-A89FoxGLs7"
      },
      "source": [
        ">3.2.8. Looking at the coefficients from the linear regression with standardization, identify which variable is the most significant in this model. "
      ]
    },
    {
      "cell_type": "code",
      "metadata": {
        "id": "CZDd1zbMHT2d",
        "colab": {
          "base_uri": "https://localhost:8080/"
        },
        "outputId": "d02cbdbb-488c-49ba-fde5-67bce68a55cc"
      },
      "source": [
        "# YOUR CODE HERE\n",
        "print(\"params: \", LR.coef_)"
      ],
      "execution_count": 21,
      "outputs": [
        {
          "output_type": "stream",
          "name": "stdout",
          "text": [
            "params:  [-0.23043804  1.01453418  0.382567    0.0029164  -0.01805996 -0.00148826]\n"
          ]
        }
      ]
    },
    {
      "cell_type": "markdown",
      "metadata": {
        "id": "eMzN05rZcVh0"
      },
      "source": [
        "The largest absolute values of  the standardized coefficients suggest that \"number_items\" is the most significant independent variable, and that the dates matter less."
      ]
    },
    {
      "cell_type": "markdown",
      "metadata": {
        "id": "W3wd9q3MU6Vw"
      },
      "source": [
        "> 3.2.9. Calculate the adjusted R-squared and identify the optimum regression coefficients using linear regression with standardisation. \n",
        ">\n",
        "> Hint: calculate the adjusted R-squared for the full model with linear regression and standardisation (as above). The try dropping either one of the columns: 'number_orders', 'number_items', 'number_segments' and recalculate adjusted R-squared for every new model. Identify which combination of features gives the highest adjusted R-squared. \n",
        ">\n",
        ">Check out this documentation file on the [adjusted R-squared](https://www.statology.org/adjusted-r-squared-in-python/)."
      ]
    },
    {
      "cell_type": "code",
      "metadata": {
        "id": "dEC1IdtvYDpX",
        "colab": {
          "base_uri": "https://localhost:8080/"
        },
        "outputId": "951c117e-2933-4b66-c096-0e771e30ae65"
      },
      "source": [
        "# YOUR CODE HERE\n",
        "LR.fit(X_train, y_train)\n",
        "print(\"R^2 score: \", LR.score(X_train, y_train))"
      ],
      "execution_count": 23,
      "outputs": [
        {
          "output_type": "stream",
          "name": "stdout",
          "text": [
            "R^2 score:  0.4954836572167168\n"
          ]
        }
      ]
    },
    {
      "cell_type": "markdown",
      "metadata": {
        "id": "EXV4bXP2bw9d"
      },
      "source": [
        "Train the model when you drop `number_segments` and calculate the adjusted R-squared."
      ]
    },
    {
      "cell_type": "code",
      "metadata": {
        "id": "VqvTgUV3a5_7",
        "colab": {
          "base_uri": "https://localhost:8080/",
          "height": 181
        },
        "outputId": "3f0047fd-ff55-4d87-9688-362823692ac1"
      },
      "source": [
        "# YOUR CODE HERE\n",
        "X = X_train.drop('number_segments', 1,)"
      ],
      "execution_count": 26,
      "outputs": [
        {
          "output_type": "error",
          "ename": "AttributeError",
          "evalue": "ignored",
          "traceback": [
            "\u001b[0;31m---------------------------------------------------------------------------\u001b[0m",
            "\u001b[0;31mAttributeError\u001b[0m                            Traceback (most recent call last)",
            "\u001b[0;32m<ipython-input-26-adb41115b70a>\u001b[0m in \u001b[0;36m<module>\u001b[0;34m()\u001b[0m\n\u001b[1;32m      1\u001b[0m \u001b[0;31m# YOUR CODE HERE\u001b[0m\u001b[0;34m\u001b[0m\u001b[0;34m\u001b[0m\u001b[0;34m\u001b[0m\u001b[0m\n\u001b[0;32m----> 2\u001b[0;31m \u001b[0mX\u001b[0m \u001b[0;34m=\u001b[0m \u001b[0mX_train\u001b[0m\u001b[0;34m.\u001b[0m\u001b[0mdrop\u001b[0m\u001b[0;34m(\u001b[0m\u001b[0;34m'number_segments'\u001b[0m\u001b[0;34m,\u001b[0m \u001b[0;36m1\u001b[0m\u001b[0;34m,\u001b[0m\u001b[0;34m)\u001b[0m\u001b[0;34m\u001b[0m\u001b[0;34m\u001b[0m\u001b[0m\n\u001b[0m",
            "\u001b[0;31mAttributeError\u001b[0m: 'numpy.ndarray' object has no attribute 'drop'"
          ]
        }
      ]
    },
    {
      "cell_type": "markdown",
      "metadata": {
        "id": "GV5vh6Leb655"
      },
      "source": [
        "Train the model when you drop `number_items` and calculate the adjusted R-squared."
      ]
    },
    {
      "cell_type": "code",
      "metadata": {
        "id": "cGRbZ-EJcBBv"
      },
      "source": [
        "# YOUR CODE HERE\n"
      ],
      "execution_count": null,
      "outputs": []
    },
    {
      "cell_type": "markdown",
      "metadata": {
        "id": "8KautFYzcUN4"
      },
      "source": [
        "Train the model when you drop `number_orders` and calculate the adjusted R-squared."
      ]
    },
    {
      "cell_type": "code",
      "metadata": {
        "id": "t2pDrzyLcaq9"
      },
      "source": [
        "# YOUR CODE HERE\n"
      ],
      "execution_count": null,
      "outputs": []
    }
  ]
}